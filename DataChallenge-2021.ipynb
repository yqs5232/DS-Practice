{
 "cells": [
  {
   "cell_type": "code",
   "execution_count": 7,
   "metadata": {},
   "outputs": [],
   "source": [
    "# import packages\n",
    "import pandas as pd\n",
    "import numpy as np\n",
    "import matplotlib.pyplot as plt\n",
    "%matplotlib inline\n",
    "%matplotlib notebook\n",
    "import seaborn as sns\n",
    "from datetime import datetime"
   ]
  },
  {
   "cell_type": "code",
   "execution_count": 2,
   "metadata": {},
   "outputs": [
    {
     "name": "stdout",
     "output_type": "stream",
     "text": [
      "Python version: 3.7.4\n"
     ]
    }
   ],
   "source": [
    "import platform\n",
    "print(\"Python version:\", platform.python_version())"
   ]
  },
  {
   "cell_type": "code",
   "execution_count": 8,
   "metadata": {},
   "outputs": [],
   "source": [
    "def printb(string):\n",
    "    print('\\033[1m'+string+'\\033[0m')\n",
    "import warnings\n",
    "warnings.filterwarnings('ignore')"
   ]
  },
  {
   "cell_type": "markdown",
   "metadata": {},
   "source": [
    "# Question 1: Load"
   ]
  },
  {
   "cell_type": "markdown",
   "metadata": {},
   "source": [
    "# Programmatically download and load into your favorite analytical tool the transactions data. "
   ]
  },
  {
   "cell_type": "code",
   "execution_count": 6,
   "metadata": {},
   "outputs": [
    {
     "name": "stdout",
     "output_type": "stream",
     "text": [
      "fatal: destination path 'DS' already exists and is not an empty directory.\r\n"
     ]
    }
   ],
   "source": [
    "# clone data challenge repository via URL\n",
    "!git clone https://github.com/CapitalOneRecruiting/DS.git"
   ]
  },
  {
   "cell_type": "code",
   "execution_count": 8,
   "metadata": {},
   "outputs": [
    {
     "name": "stdout",
     "output_type": "stream",
     "text": [
      "Filename is  transactions.txt\n"
     ]
    }
   ],
   "source": [
    "# read zipped and line-delimited JSON file\n",
    "# save as pickle for reusage\n",
    "import json  \n",
    "import zipfile  \n",
    "\n",
    "d = None\n",
    "data = None \n",
    "json_lines=[]\n",
    "with zipfile.ZipFile(\"DS/transactions.zip\", \"r\") as z:\n",
    "    for filename in z.namelist():  \n",
    "        print(\"Filename is \",filename)  \n",
    "        with z.open(filename) as f:  \n",
    "            for line in f:\n",
    "                j_content = json.loads(line)\n",
    "                json_lines.append(j_content)\n",
    "\n",
    "# save json object as dataframe\n",
    "df_raw = pd.DataFrame(json_lines)   \n",
    "df_raw.to_pickle('Datachallenge.pkl')"
   ]
  },
  {
   "cell_type": "markdown",
   "metadata": {},
   "source": [
    "# Please describe the structure of the data. Number of records and fields in each record?"
   ]
  },
  {
   "cell_type": "code",
   "execution_count": 4,
   "metadata": {},
   "outputs": [],
   "source": [
    "df = pd.read_pickle('Datachallenge.pkl')"
   ]
  },
  {
   "cell_type": "code",
   "execution_count": 64,
   "metadata": {},
   "outputs": [
    {
     "name": "stdout",
     "output_type": "stream",
     "text": [
      "\u001b[1mShape of data:\u001b[0m\n",
      "(786363, 29)\n",
      "\u001b[1mDatatypes of data:\u001b[0m\n",
      "accountNumber                object\n",
      "customerId                   object\n",
      "creditLimit                 float64\n",
      "availableMoney              float64\n",
      "transactionDateTime          object\n",
      "transactionAmount           float64\n",
      "merchantName                 object\n",
      "acqCountry                   object\n",
      "merchantCountryCode          object\n",
      "posEntryMode                 object\n",
      "posConditionCode             object\n",
      "merchantCategoryCode         object\n",
      "currentExpDate               object\n",
      "accountOpenDate              object\n",
      "dateOfLastAddressChange      object\n",
      "cardCVV                      object\n",
      "enteredCVV                   object\n",
      "cardLast4Digits              object\n",
      "transactionType              object\n",
      "echoBuffer                   object\n",
      "currentBalance              float64\n",
      "merchantCity                 object\n",
      "merchantState                object\n",
      "merchantZip                  object\n",
      "cardPresent                    bool\n",
      "posOnPremises                object\n",
      "recurringAuthInd             object\n",
      "expirationDateKeyInMatch       bool\n",
      "isFraud                        bool\n",
      "dtype: object\n",
      "\u001b[1mDistinct records of each column:\u001b[0m\n",
      "accountNumber                 5000\n",
      "customerId                    5000\n",
      "creditLimit                     10\n",
      "availableMoney              521916\n",
      "transactionDateTime         776637\n",
      "transactionAmount            66038\n",
      "merchantName                  2490\n",
      "acqCountry                       5\n",
      "merchantCountryCode              5\n",
      "posEntryMode                     6\n",
      "posConditionCode                 4\n",
      "merchantCategoryCode            19\n",
      "currentExpDate                 165\n",
      "accountOpenDate               1820\n",
      "dateOfLastAddressChange       2184\n",
      "cardCVV                        899\n",
      "enteredCVV                     976\n",
      "cardLast4Digits               5246\n",
      "transactionType                  4\n",
      "echoBuffer                       1\n",
      "currentBalance              487318\n",
      "merchantCity                     1\n",
      "merchantState                    1\n",
      "merchantZip                      1\n",
      "cardPresent                      2\n",
      "posOnPremises                    1\n",
      "recurringAuthInd                 1\n",
      "expirationDateKeyInMatch         2\n",
      "isFraud                          2\n",
      "dtype: int64\n"
     ]
    }
   ],
   "source": [
    "printb('Shape of data:')\n",
    "print(df.shape)\n",
    "printb('Datatypes of data:')\n",
    "print(df.dtypes)\n",
    "printb('Distinct records of each column:')\n",
    "print(df.nunique())"
   ]
  },
  {
   "cell_type": "code",
   "execution_count": 5,
   "metadata": {},
   "outputs": [
    {
     "name": "stdout",
     "output_type": "stream",
     "text": [
      "\u001b[1mNA records of each column:\u001b[0m\n",
      "accountNumber                    0\n",
      "customerId                       0\n",
      "creditLimit                      0\n",
      "availableMoney                   0\n",
      "transactionDateTime              0\n",
      "transactionAmount                0\n",
      "merchantName                     0\n",
      "acqCountry                    4562\n",
      "merchantCountryCode            724\n",
      "posEntryMode                  4054\n",
      "posConditionCode               409\n",
      "merchantCategoryCode             0\n",
      "currentExpDate                   0\n",
      "accountOpenDate                  0\n",
      "dateOfLastAddressChange          0\n",
      "cardCVV                          0\n",
      "enteredCVV                       0\n",
      "cardLast4Digits                  0\n",
      "transactionType                698\n",
      "echoBuffer                  786363\n",
      "currentBalance                   0\n",
      "merchantCity                786363\n",
      "merchantState               786363\n",
      "merchantZip                 786363\n",
      "cardPresent                      0\n",
      "posOnPremises               786363\n",
      "recurringAuthInd            786363\n",
      "expirationDateKeyInMatch         0\n",
      "isFraud                          0\n",
      "dtype: int64\n"
     ]
    }
   ],
   "source": [
    "df = df.replace(['','NA','Null','NAN'], np.nan)\n",
    "printb('NA records of each column:')\n",
    "print(df.isna().sum())"
   ]
  },
  {
   "cell_type": "code",
   "execution_count": 131,
   "metadata": {},
   "outputs": [
    {
     "data": {
      "text/html": [
       "<div>\n",
       "<style scoped>\n",
       "    .dataframe tbody tr th:only-of-type {\n",
       "        vertical-align: middle;\n",
       "    }\n",
       "\n",
       "    .dataframe tbody tr th {\n",
       "        vertical-align: top;\n",
       "    }\n",
       "\n",
       "    .dataframe thead th {\n",
       "        text-align: right;\n",
       "    }\n",
       "</style>\n",
       "<table border=\"1\" class=\"dataframe\">\n",
       "  <thead>\n",
       "    <tr style=\"text-align: right;\">\n",
       "      <th></th>\n",
       "      <th>accountNumber</th>\n",
       "      <th>customerId</th>\n",
       "      <th>creditLimit</th>\n",
       "      <th>availableMoney</th>\n",
       "      <th>transactionDateTime</th>\n",
       "      <th>transactionAmount</th>\n",
       "      <th>merchantName</th>\n",
       "      <th>acqCountry</th>\n",
       "      <th>merchantCountryCode</th>\n",
       "      <th>posEntryMode</th>\n",
       "      <th>...</th>\n",
       "      <th>dateOfLastAddressChange</th>\n",
       "      <th>cardCVV</th>\n",
       "      <th>enteredCVV</th>\n",
       "      <th>cardLast4Digits</th>\n",
       "      <th>transactionType</th>\n",
       "      <th>currentBalance</th>\n",
       "      <th>cardPresent</th>\n",
       "      <th>expirationDateKeyInMatch</th>\n",
       "      <th>isFraud</th>\n",
       "      <th>weekday</th>\n",
       "    </tr>\n",
       "  </thead>\n",
       "  <tbody>\n",
       "  </tbody>\n",
       "</table>\n",
       "<p>0 rows × 24 columns</p>\n",
       "</div>"
      ],
      "text/plain": [
       "Empty DataFrame\n",
       "Columns: [accountNumber, customerId, creditLimit, availableMoney, transactionDateTime, transactionAmount, merchantName, acqCountry, merchantCountryCode, posEntryMode, posConditionCode, merchantCategoryCode, currentExpDate, accountOpenDate, dateOfLastAddressChange, cardCVV, enteredCVV, cardLast4Digits, transactionType, currentBalance, cardPresent, expirationDateKeyInMatch, isFraud, weekday]\n",
       "Index: []\n",
       "\n",
       "[0 rows x 24 columns]"
      ]
     },
     "execution_count": 131,
     "metadata": {},
     "output_type": "execute_result"
    }
   ],
   "source": [
    "# check column duplicates since the two columns have same unique records\n",
    "df[(df['accountNumber']==df['customerId'])!=True]"
   ]
  },
  {
   "cell_type": "markdown",
   "metadata": {},
   "source": [
    "From above, we know:\n",
    "- The data has 29 features and 786363 records\n",
    "- Among the 29 features, 3 of them are bool datatype, 4 are float datatype, and the rest are object strings\n",
    "- Distinct number of records in each feature is printed above\n",
    "- The dataset is based on 5000 customers, with 10 different credit limits, 4 transaction types, and 19 merchant categories.\n",
    "- There are 6 columns that doesn't contain any value: 'echoBuffer', 'merchantCity', 'merchantState', 'merchantZip', 'posOnPremises','recurringAuthInd' \n",
    "- There are 5 columns that contain some NA values: 'acqCountry','merchantCountryCode','posEntryMode','posConditionCode','transactionType'\n",
    "- The two features: 'accountNumber' and 'customerId' share the same value"
   ]
  },
  {
   "cell_type": "markdown",
   "metadata": {},
   "source": [
    "# Please provide some additional basic summary statistics for each field. Be sure to include a count of null, minimum, maximum, and unique values where appropriate."
   ]
  },
  {
   "cell_type": "code",
   "execution_count": 59,
   "metadata": {},
   "outputs": [
    {
     "data": {
      "text/html": [
       "<div>\n",
       "<style scoped>\n",
       "    .dataframe tbody tr th:only-of-type {\n",
       "        vertical-align: middle;\n",
       "    }\n",
       "\n",
       "    .dataframe tbody tr th {\n",
       "        vertical-align: top;\n",
       "    }\n",
       "\n",
       "    .dataframe thead th {\n",
       "        text-align: right;\n",
       "    }\n",
       "</style>\n",
       "<table border=\"1\" class=\"dataframe\">\n",
       "  <thead>\n",
       "    <tr style=\"text-align: right;\">\n",
       "      <th></th>\n",
       "      <th>creditLimit</th>\n",
       "      <th>availableMoney</th>\n",
       "      <th>transactionAmount</th>\n",
       "      <th>currentBalance</th>\n",
       "    </tr>\n",
       "  </thead>\n",
       "  <tbody>\n",
       "    <tr>\n",
       "      <td>count</td>\n",
       "      <td>786363.000000</td>\n",
       "      <td>786363.000000</td>\n",
       "      <td>786363.000000</td>\n",
       "      <td>786363.000000</td>\n",
       "    </tr>\n",
       "    <tr>\n",
       "      <td>mean</td>\n",
       "      <td>10759.464459</td>\n",
       "      <td>6250.725369</td>\n",
       "      <td>136.985791</td>\n",
       "      <td>4508.739089</td>\n",
       "    </tr>\n",
       "    <tr>\n",
       "      <td>std</td>\n",
       "      <td>11636.174890</td>\n",
       "      <td>8880.783989</td>\n",
       "      <td>147.725569</td>\n",
       "      <td>6457.442068</td>\n",
       "    </tr>\n",
       "    <tr>\n",
       "      <td>min</td>\n",
       "      <td>250.000000</td>\n",
       "      <td>-1005.630000</td>\n",
       "      <td>0.000000</td>\n",
       "      <td>0.000000</td>\n",
       "    </tr>\n",
       "    <tr>\n",
       "      <td>25%</td>\n",
       "      <td>5000.000000</td>\n",
       "      <td>1077.420000</td>\n",
       "      <td>33.650000</td>\n",
       "      <td>689.910000</td>\n",
       "    </tr>\n",
       "    <tr>\n",
       "      <td>50%</td>\n",
       "      <td>7500.000000</td>\n",
       "      <td>3184.860000</td>\n",
       "      <td>87.900000</td>\n",
       "      <td>2451.760000</td>\n",
       "    </tr>\n",
       "    <tr>\n",
       "      <td>75%</td>\n",
       "      <td>15000.000000</td>\n",
       "      <td>7500.000000</td>\n",
       "      <td>191.480000</td>\n",
       "      <td>5291.095000</td>\n",
       "    </tr>\n",
       "    <tr>\n",
       "      <td>max</td>\n",
       "      <td>50000.000000</td>\n",
       "      <td>50000.000000</td>\n",
       "      <td>2011.540000</td>\n",
       "      <td>47498.810000</td>\n",
       "    </tr>\n",
       "  </tbody>\n",
       "</table>\n",
       "</div>"
      ],
      "text/plain": [
       "         creditLimit  availableMoney  transactionAmount  currentBalance\n",
       "count  786363.000000   786363.000000      786363.000000   786363.000000\n",
       "mean    10759.464459     6250.725369         136.985791     4508.739089\n",
       "std     11636.174890     8880.783989         147.725569     6457.442068\n",
       "min       250.000000    -1005.630000           0.000000        0.000000\n",
       "25%      5000.000000     1077.420000          33.650000      689.910000\n",
       "50%      7500.000000     3184.860000          87.900000     2451.760000\n",
       "75%     15000.000000     7500.000000         191.480000     5291.095000\n",
       "max     50000.000000    50000.000000        2011.540000    47498.810000"
      ]
     },
     "execution_count": 59,
     "metadata": {},
     "output_type": "execute_result"
    }
   ],
   "source": [
    "# describe 4 numeric fields\n",
    "df.describe()"
   ]
  },
  {
   "cell_type": "markdown",
   "metadata": {},
   "source": [
    "From above, we know:\n",
    "- The credit limit is between 250 and 50,000 and the mean is around 10,769, indicating the data skewing to the right\n",
    "- The money available can be negative, which might indicate oweing money. \n",
    "- Transaction amount is between 0 to 2012, and the mean is around 137 which also indicates right skewed\n",
    "- The sum of the mean of both current balance and the available money rounds up to the credit limit\n",
    "- There seems to be correlation between the 4 numeric features    "
   ]
  },
  {
   "cell_type": "markdown",
   "metadata": {},
   "source": [
    "# Question 2: Plot"
   ]
  },
  {
   "cell_type": "markdown",
   "metadata": {},
   "source": [
    "# Plot a histogram of the processed amounts of each transaction, the transactionAmount column."
   ]
  },
  {
   "cell_type": "code",
   "execution_count": 6,
   "metadata": {},
   "outputs": [],
   "source": [
    "# drop the 6 columns that doesn't have values\n",
    "df=df.drop(columns=['echoBuffer', 'merchantCity', 'merchantState', 'merchantZip', 'posOnPremises','recurringAuthInd'])"
   ]
  },
  {
   "cell_type": "code",
   "execution_count": 18,
   "metadata": {},
   "outputs": [
    {
     "data": {
      "text/plain": [
       "Text(0.5, 1.0, 'Histogram of Transaction Amounts')"
      ]
     },
     "execution_count": 18,
     "metadata": {},
     "output_type": "execute_result"
    },
    {
     "data": {
      "image/png": "[encoded data removed]",
      "text/plain": [
       "<Figure size 432x288 with 1 Axes>"
      ]
     },
     "metadata": {
      "needs_background": "light"
     },
     "output_type": "display_data"
    }
   ],
   "source": [
    "sns.histplot(df,x='transactionAmount',hue= 'transactionType', kde=True)\n",
    "plt.title('Histogram of Transaction Amounts')"
   ]
  },
  {
   "cell_type": "markdown",
   "metadata": {},
   "source": [
    "From above, the plot confirmed that the transaction amount is right skewed, the majority transaction amount is under 250. Majority of the transaction type is 'purchase', and the rest is 'reversal. 'address_verification' does not have transaction amount."
   ]
  },
  {
   "cell_type": "markdown",
   "metadata": {},
   "source": [
    "# Report any structure you find and any hypotheses you have about that structure."
   ]
  },
  {
   "cell_type": "code",
   "execution_count": 37,
   "metadata": {},
   "outputs": [
    {
     "data": {
      "text/plain": [
       "<seaborn.axisgrid.FacetGrid at 0x7faaa770b910>"
      ]
     },
     "execution_count": 37,
     "metadata": {},
     "output_type": "execute_result"
    },
    {
     "data": {
      "image/png": "[encoded data removed]",
      "text/plain": [
       "<Figure size 422.125x360 with 1 Axes>"
      ]
     },
     "metadata": {
      "needs_background": "light"
     },
     "output_type": "display_data"
    }
   ],
   "source": [
    "df1 = df.dropna(subset=['transactionType'])\n",
    "g=sns.catplot(x=\"transactionType\", y=\"transactionAmount\", hue=\"isFraud\", kind=\"box\", data=df1)\n",
    "g.set_xticklabels(rotation=30)"
   ]
  },
  {
   "cell_type": "markdown",
   "metadata": {},
   "source": [
    "- From above we see that the mean of the 'purchase' amount is close to the 'reversal' amount, both are heavily right skewed and the span of 'reversal' amount is smaller. \n",
    "- The 'address_verification' transactions have no transaction amount.\n",
    "- Also, the mean of transaction amount for transactions identified as fraud is higher than non-fraud, but the highest values of fraud transactions are smaller than non-fraud."
   ]
  },
  {
   "cell_type": "code",
   "execution_count": 88,
   "metadata": {},
   "outputs": [
    {
     "data": {
      "image/png": "[encoded data removed]",
      "text/plain": [
       "<Figure size 360x360 with 2 Axes>"
      ]
     },
     "metadata": {
      "needs_background": "light"
     },
     "output_type": "display_data"
    }
   ],
   "source": [
    "# plot correlation of the 4 numeric fields\n",
    "df_numeric = df[['creditLimit','availableMoney','transactionAmount','currentBalance']]\n",
    "corr = df_numeric.corr()\n",
    "corr\n",
    "fig, ax = plt.subplots(figsize=(5,5))\n",
    "heatmap = sns.heatmap(corr,cmap='Blues',square=True,annot=True)\n",
    "heatmap.xaxis.set_ticklabels(heatmap.xaxis.get_ticklabels(), rotation=20, fontsize=10)\n",
    "\n",
    "plt.title('Correlation Matrix')\n",
    "bottom, top = ax.get_ylim()\n",
    "ax.set_ylim(bottom + 0.9, top - 0.9)\n",
    "plt.show()"
   ]
  },
  {
   "cell_type": "markdown",
   "metadata": {},
   "source": [
    "From above, we see strong positive correlation between availableMoney and creditLimit. Also pretty decent positive correlation between currentBalance and creditLimit. But the transaction amount is not affected by creditLimit."
   ]
  },
  {
   "cell_type": "code",
   "execution_count": 94,
   "metadata": {},
   "outputs": [
    {
     "data": {
      "image/png": "[encoded data removed]",
      "text/plain": [
       "<Figure size 432x288 with 2 Axes>"
      ]
     },
     "metadata": {
      "needs_background": "light"
     },
     "output_type": "display_data"
    }
   ],
   "source": [
    "df2 = df.groupby('creditLimit')['availableMoney','currentBalance','transactionAmount'].mean().reset_index()\n",
    "#plt.figure()\n",
    "ax = df2.plot(x='creditLimit',secondary_y=['transactionAmount'],kind='bar')\n",
    "ax.right_ax.set_ylim(0,300)\n",
    "ax.right_ax.set_ylabel('transactionAmount scale')\n",
    "ax.set_xticklabels(df2['creditLimit'], rotation = 25)\n",
    "ax.set_title('average dollar amount per creditLimit')\n",
    "plt.show()"
   ]
  },
  {
   "cell_type": "markdown",
   "metadata": {},
   "source": [
    "- From above, we see the positive correlation between credit limit and both the mean of availableMoney and mean of currentBalance. However, the avg transaction amount stays in the same level around 150. \n",
    "- Also, the sum of availableMoney and currentBalance can almost round up to the creditLimit."
   ]
  },
  {
   "cell_type": "markdown",
   "metadata": {},
   "source": [
    "# Question 3: Data Wrangling - Duplicate Transactions"
   ]
  },
  {
   "cell_type": "markdown",
   "metadata": {},
   "source": [
    "Before answering the questions, we do some prelim data processing."
   ]
  },
  {
   "cell_type": "markdown",
   "metadata": {},
   "source": [
    "1. convert datetime variables to datetime data type"
   ]
  },
  {
   "cell_type": "code",
   "execution_count": 7,
   "metadata": {},
   "outputs": [
    {
     "name": "stdout",
     "output_type": "stream",
     "text": [
      "   transactionDateTime accountOpenDate currentExpDate dateOfLastAddressChange\n",
      "0  2016-08-13T14:27:32      2015-03-14        06/2023              2015-03-14\n",
      "1  2016-10-11T05:05:54      2015-03-14        02/2024              2015-03-14\n",
      "2  2016-11-08T09:18:39      2015-03-14        08/2025              2015-03-14\n",
      "3  2016-12-10T02:14:50      2015-03-14        08/2025              2015-03-14\n",
      "4  2016-03-24T21:04:46      2015-08-06        10/2029              2015-08-06\n"
     ]
    }
   ],
   "source": [
    "date_feature = ['transactionDateTime','accountOpenDate','currentExpDate','dateOfLastAddressChange']\n",
    "print(df[date_feature].head())"
   ]
  },
  {
   "cell_type": "code",
   "execution_count": 8,
   "metadata": {},
   "outputs": [
    {
     "name": "stdout",
     "output_type": "stream",
     "text": [
      "accountNumber                       object\n",
      "customerId                          object\n",
      "creditLimit                        float64\n",
      "availableMoney                     float64\n",
      "transactionDateTime         datetime64[ns]\n",
      "transactionAmount                  float64\n",
      "merchantName                        object\n",
      "acqCountry                          object\n",
      "merchantCountryCode                 object\n",
      "posEntryMode                        object\n",
      "posConditionCode                    object\n",
      "merchantCategoryCode                object\n",
      "currentExpDate              datetime64[ns]\n",
      "accountOpenDate             datetime64[ns]\n",
      "dateOfLastAddressChange     datetime64[ns]\n",
      "cardCVV                             object\n",
      "enteredCVV                          object\n",
      "cardLast4Digits                     object\n",
      "transactionType                     object\n",
      "currentBalance                     float64\n",
      "cardPresent                           bool\n",
      "expirationDateKeyInMatch              bool\n",
      "isFraud                               bool\n",
      "dtype: object\n",
      "  transactionDateTime accountOpenDate currentExpDate dateOfLastAddressChange\n",
      "0 2016-08-13 14:27:32      2015-03-14     2023-06-01              2015-03-14\n",
      "1 2016-10-11 05:05:54      2015-03-14     2024-02-01              2015-03-14\n",
      "2 2016-11-08 09:18:39      2015-03-14     2025-08-01              2015-03-14\n",
      "3 2016-12-10 02:14:50      2015-03-14     2025-08-01              2015-03-14\n",
      "4 2016-03-24 21:04:46      2015-08-06     2029-10-01              2015-08-06\n"
     ]
    }
   ],
   "source": [
    "df['transactionDateTime']=pd.to_datetime(df['transactionDateTime'],format='%Y-%m-%dT%H:%M:%S')\n",
    "df['accountOpenDate']=pd.to_datetime(df['accountOpenDate'],format='%Y-%m-%d')\n",
    "df['currentExpDate']=pd.to_datetime(df['currentExpDate'],format='%m/%Y')\n",
    "df['dateOfLastAddressChange']=pd.to_datetime(df['dateOfLastAddressChange'],format='%Y-%m-%d')\n",
    "print(df.dtypes)\n",
    "print(df[date_feature].head())"
   ]
  },
  {
   "cell_type": "markdown",
   "metadata": {},
   "source": [
    "2. fill Nan values"
   ]
  },
  {
   "cell_type": "code",
   "execution_count": 9,
   "metadata": {},
   "outputs": [
    {
     "name": "stdout",
     "output_type": "stream",
     "text": [
      "['acqCountry', 'merchantCountryCode', 'posEntryMode', 'posConditionCode', 'transactionType']\n",
      "acqCountry             object\n",
      "merchantCountryCode    object\n",
      "posEntryMode           object\n",
      "posConditionCode       object\n",
      "transactionType        object\n",
      "dtype: object\n"
     ]
    }
   ],
   "source": [
    "na_column = df.columns[df.isna().any()].tolist()\n",
    "print(na_column)\n",
    "print(df[na_column].dtypes)"
   ]
  },
  {
   "cell_type": "code",
   "execution_count": 10,
   "metadata": {},
   "outputs": [],
   "source": [
    "# since all columns that contain Nan values are object datatype, we will fillna with string\n",
    "df[na_column]=df[na_column].fillna('NA')"
   ]
  },
  {
   "cell_type": "code",
   "execution_count": 11,
   "metadata": {},
   "outputs": [
    {
     "data": {
      "text/plain": [
       "PURCHASE                745193\n",
       "REVERSAL                 20303\n",
       "ADDRESS_VERIFICATION     20169\n",
       "NA                         698\n",
       "Name: transactionType, dtype: int64"
      ]
     },
     "execution_count": 11,
     "metadata": {},
     "output_type": "execute_result"
    }
   ],
   "source": [
    "# check counts of transactionType\n",
    "df['transactionType'].value_counts()"
   ]
  },
  {
   "cell_type": "markdown",
   "metadata": {},
   "source": [
    "# To identify reversal: \n",
    "    - most simply, we can filter on the transactionType =='REVERSAL', which gives 20303 records. However, there are 698 records that are missing the transactionType, also the type can be coded wrong with human inputs.\n",
    "    - If there is more time, we could identify the reversal records from the NA types records.\n",
    "    - save as df_rev"
   ]
  },
  {
   "cell_type": "code",
   "execution_count": 398,
   "metadata": {},
   "outputs": [
    {
     "name": "stdout",
     "output_type": "stream",
     "text": [
      "(20303, 25)\n"
     ]
    }
   ],
   "source": [
    "# simply filter on transactionType to identify reversal\n",
    "df_rev = df[df['transactionType']=='REVERSAL']\n",
    "print(df_rev.shape)"
   ]
  },
  {
   "cell_type": "markdown",
   "metadata": {},
   "source": [
    "# To identify multi-swipe transactions:\n",
    "- We can make following assumptions to filter out potential multi-swipe records:\n",
    "    - the multi-swipe happens within 1 transaction day, within couple of minutes\n",
    "    - the transaction should have the same merchant, same customer and same credit card \n",
    "    - -> same 'merchantName','transactionDate','transactionAmount','customerId','cardLast4Digits'\n",
    "    - we can filter out the 'REVERSAL' and 'ADDRESS_VERIFICATION'. All 'ADDRESS_VERIFICATION' has 0 transaction amount which should not be multi-swipe.\n",
    "    - We got 14220 records after above filtering.\n",
    "- After calculating the timespan of the multi-swipe records filtered from above, which is around 2 minutes, we set the index of the dataframe tobe the transactionDateTime, and we use the Grouper attribute to group the potential records in a 3-minute timespan period. Then we filter out the records that are within the 3-minute timespan. We got 7105 records to be the multi-swipe transactions.\n",
    "- Save as df_multi\n",
    "    "
   ]
  },
  {
   "cell_type": "code",
   "execution_count": 12,
   "metadata": {},
   "outputs": [
    {
     "data": {
      "text/html": [
       "<div>\n",
       "<style scoped>\n",
       "    .dataframe tbody tr th:only-of-type {\n",
       "        vertical-align: middle;\n",
       "    }\n",
       "\n",
       "    .dataframe tbody tr th {\n",
       "        vertical-align: top;\n",
       "    }\n",
       "\n",
       "    .dataframe thead th {\n",
       "        text-align: right;\n",
       "    }\n",
       "</style>\n",
       "<table border=\"1\" class=\"dataframe\">\n",
       "  <thead>\n",
       "    <tr style=\"text-align: right;\">\n",
       "      <th></th>\n",
       "      <th>accountNumber</th>\n",
       "      <th>customerId</th>\n",
       "      <th>creditLimit</th>\n",
       "      <th>availableMoney</th>\n",
       "      <th>transactionDateTime</th>\n",
       "      <th>transactionAmount</th>\n",
       "      <th>merchantName</th>\n",
       "      <th>acqCountry</th>\n",
       "      <th>merchantCountryCode</th>\n",
       "      <th>posEntryMode</th>\n",
       "      <th>...</th>\n",
       "      <th>dateOfLastAddressChange</th>\n",
       "      <th>cardCVV</th>\n",
       "      <th>enteredCVV</th>\n",
       "      <th>cardLast4Digits</th>\n",
       "      <th>transactionType</th>\n",
       "      <th>currentBalance</th>\n",
       "      <th>cardPresent</th>\n",
       "      <th>expirationDateKeyInMatch</th>\n",
       "      <th>isFraud</th>\n",
       "      <th>transactionDate</th>\n",
       "    </tr>\n",
       "  </thead>\n",
       "  <tbody>\n",
       "    <tr>\n",
       "      <td>262</td>\n",
       "      <td>984504651</td>\n",
       "      <td>984504651</td>\n",
       "      <td>50000.0</td>\n",
       "      <td>26799.51</td>\n",
       "      <td>2016-03-12 06:34:13</td>\n",
       "      <td>118.52</td>\n",
       "      <td>AMC #706324</td>\n",
       "      <td>US</td>\n",
       "      <td>US</td>\n",
       "      <td>02</td>\n",
       "      <td>...</td>\n",
       "      <td>2015-07-27</td>\n",
       "      <td>640</td>\n",
       "      <td>640</td>\n",
       "      <td>8332</td>\n",
       "      <td>PURCHASE</td>\n",
       "      <td>23200.49</td>\n",
       "      <td>True</td>\n",
       "      <td>False</td>\n",
       "      <td>False</td>\n",
       "      <td>2016-03-12</td>\n",
       "    </tr>\n",
       "    <tr>\n",
       "      <td>263</td>\n",
       "      <td>984504651</td>\n",
       "      <td>984504651</td>\n",
       "      <td>50000.0</td>\n",
       "      <td>26680.99</td>\n",
       "      <td>2016-03-12 06:34:29</td>\n",
       "      <td>118.52</td>\n",
       "      <td>AMC #706324</td>\n",
       "      <td>US</td>\n",
       "      <td>US</td>\n",
       "      <td>02</td>\n",
       "      <td>...</td>\n",
       "      <td>2015-07-27</td>\n",
       "      <td>640</td>\n",
       "      <td>640</td>\n",
       "      <td>8332</td>\n",
       "      <td>PURCHASE</td>\n",
       "      <td>23319.01</td>\n",
       "      <td>True</td>\n",
       "      <td>False</td>\n",
       "      <td>False</td>\n",
       "      <td>2016-03-12</td>\n",
       "    </tr>\n",
       "    <tr>\n",
       "      <td>264</td>\n",
       "      <td>984504651</td>\n",
       "      <td>984504651</td>\n",
       "      <td>50000.0</td>\n",
       "      <td>26562.47</td>\n",
       "      <td>2016-03-12 06:36:41</td>\n",
       "      <td>118.52</td>\n",
       "      <td>AMC #706324</td>\n",
       "      <td>US</td>\n",
       "      <td>US</td>\n",
       "      <td>02</td>\n",
       "      <td>...</td>\n",
       "      <td>2015-07-27</td>\n",
       "      <td>640</td>\n",
       "      <td>640</td>\n",
       "      <td>8332</td>\n",
       "      <td>PURCHASE</td>\n",
       "      <td>23437.53</td>\n",
       "      <td>True</td>\n",
       "      <td>False</td>\n",
       "      <td>False</td>\n",
       "      <td>2016-03-12</td>\n",
       "    </tr>\n",
       "    <tr>\n",
       "      <td>280</td>\n",
       "      <td>984504651</td>\n",
       "      <td>984504651</td>\n",
       "      <td>50000.0</td>\n",
       "      <td>24342.83</td>\n",
       "      <td>2016-03-18 13:56:20</td>\n",
       "      <td>26.71</td>\n",
       "      <td>Planet Fitness #692929</td>\n",
       "      <td>US</td>\n",
       "      <td>US</td>\n",
       "      <td>02</td>\n",
       "      <td>...</td>\n",
       "      <td>2015-07-27</td>\n",
       "      <td>640</td>\n",
       "      <td>640</td>\n",
       "      <td>8332</td>\n",
       "      <td>PURCHASE</td>\n",
       "      <td>25657.17</td>\n",
       "      <td>True</td>\n",
       "      <td>False</td>\n",
       "      <td>False</td>\n",
       "      <td>2016-03-18</td>\n",
       "    </tr>\n",
       "    <tr>\n",
       "      <td>281</td>\n",
       "      <td>984504651</td>\n",
       "      <td>984504651</td>\n",
       "      <td>50000.0</td>\n",
       "      <td>24316.12</td>\n",
       "      <td>2016-03-18 13:57:04</td>\n",
       "      <td>26.71</td>\n",
       "      <td>Planet Fitness #692929</td>\n",
       "      <td>US</td>\n",
       "      <td>US</td>\n",
       "      <td>02</td>\n",
       "      <td>...</td>\n",
       "      <td>2015-07-27</td>\n",
       "      <td>640</td>\n",
       "      <td>640</td>\n",
       "      <td>8332</td>\n",
       "      <td>PURCHASE</td>\n",
       "      <td>25683.88</td>\n",
       "      <td>True</td>\n",
       "      <td>False</td>\n",
       "      <td>False</td>\n",
       "      <td>2016-03-18</td>\n",
       "    </tr>\n",
       "    <tr>\n",
       "      <td>...</td>\n",
       "      <td>...</td>\n",
       "      <td>...</td>\n",
       "      <td>...</td>\n",
       "      <td>...</td>\n",
       "      <td>...</td>\n",
       "      <td>...</td>\n",
       "      <td>...</td>\n",
       "      <td>...</td>\n",
       "      <td>...</td>\n",
       "      <td>...</td>\n",
       "      <td>...</td>\n",
       "      <td>...</td>\n",
       "      <td>...</td>\n",
       "      <td>...</td>\n",
       "      <td>...</td>\n",
       "      <td>...</td>\n",
       "      <td>...</td>\n",
       "      <td>...</td>\n",
       "      <td>...</td>\n",
       "      <td>...</td>\n",
       "      <td>...</td>\n",
       "    </tr>\n",
       "    <tr>\n",
       "      <td>785982</td>\n",
       "      <td>205026043</td>\n",
       "      <td>205026043</td>\n",
       "      <td>5000.0</td>\n",
       "      <td>843.53</td>\n",
       "      <td>2016-06-07 22:27:35</td>\n",
       "      <td>391.94</td>\n",
       "      <td>Uber</td>\n",
       "      <td>US</td>\n",
       "      <td>US</td>\n",
       "      <td>09</td>\n",
       "      <td>...</td>\n",
       "      <td>2008-04-15</td>\n",
       "      <td>198</td>\n",
       "      <td>198</td>\n",
       "      <td>3931</td>\n",
       "      <td>PURCHASE</td>\n",
       "      <td>4156.47</td>\n",
       "      <td>False</td>\n",
       "      <td>False</td>\n",
       "      <td>False</td>\n",
       "      <td>2016-06-07</td>\n",
       "    </tr>\n",
       "    <tr>\n",
       "      <td>785983</td>\n",
       "      <td>205026043</td>\n",
       "      <td>205026043</td>\n",
       "      <td>5000.0</td>\n",
       "      <td>451.59</td>\n",
       "      <td>2016-06-07 22:29:11</td>\n",
       "      <td>391.94</td>\n",
       "      <td>Uber</td>\n",
       "      <td>US</td>\n",
       "      <td>US</td>\n",
       "      <td>09</td>\n",
       "      <td>...</td>\n",
       "      <td>2008-04-15</td>\n",
       "      <td>198</td>\n",
       "      <td>198</td>\n",
       "      <td>3931</td>\n",
       "      <td>PURCHASE</td>\n",
       "      <td>4548.41</td>\n",
       "      <td>False</td>\n",
       "      <td>False</td>\n",
       "      <td>False</td>\n",
       "      <td>2016-06-07</td>\n",
       "    </tr>\n",
       "    <tr>\n",
       "      <td>785984</td>\n",
       "      <td>205026043</td>\n",
       "      <td>205026043</td>\n",
       "      <td>5000.0</td>\n",
       "      <td>433.52</td>\n",
       "      <td>2016-06-07 22:30:57</td>\n",
       "      <td>391.94</td>\n",
       "      <td>Uber</td>\n",
       "      <td>US</td>\n",
       "      <td>US</td>\n",
       "      <td>09</td>\n",
       "      <td>...</td>\n",
       "      <td>2008-04-15</td>\n",
       "      <td>198</td>\n",
       "      <td>198</td>\n",
       "      <td>3931</td>\n",
       "      <td>PURCHASE</td>\n",
       "      <td>4566.48</td>\n",
       "      <td>False</td>\n",
       "      <td>False</td>\n",
       "      <td>False</td>\n",
       "      <td>2016-06-07</td>\n",
       "    </tr>\n",
       "    <tr>\n",
       "      <td>786232</td>\n",
       "      <td>638498773</td>\n",
       "      <td>638498773</td>\n",
       "      <td>10000.0</td>\n",
       "      <td>3440.16</td>\n",
       "      <td>2016-11-29 23:10:48</td>\n",
       "      <td>390.98</td>\n",
       "      <td>Krispy Kreme #653472</td>\n",
       "      <td>US</td>\n",
       "      <td>US</td>\n",
       "      <td>05</td>\n",
       "      <td>...</td>\n",
       "      <td>2014-11-17</td>\n",
       "      <td>175</td>\n",
       "      <td>175</td>\n",
       "      <td>321</td>\n",
       "      <td>PURCHASE</td>\n",
       "      <td>6559.84</td>\n",
       "      <td>True</td>\n",
       "      <td>False</td>\n",
       "      <td>False</td>\n",
       "      <td>2016-11-29</td>\n",
       "    </tr>\n",
       "    <tr>\n",
       "      <td>786233</td>\n",
       "      <td>638498773</td>\n",
       "      <td>638498773</td>\n",
       "      <td>10000.0</td>\n",
       "      <td>3049.18</td>\n",
       "      <td>2016-11-29 23:12:01</td>\n",
       "      <td>390.98</td>\n",
       "      <td>Krispy Kreme #653472</td>\n",
       "      <td>US</td>\n",
       "      <td>US</td>\n",
       "      <td>05</td>\n",
       "      <td>...</td>\n",
       "      <td>2014-11-17</td>\n",
       "      <td>175</td>\n",
       "      <td>175</td>\n",
       "      <td>321</td>\n",
       "      <td>PURCHASE</td>\n",
       "      <td>6950.82</td>\n",
       "      <td>True</td>\n",
       "      <td>False</td>\n",
       "      <td>False</td>\n",
       "      <td>2016-11-29</td>\n",
       "    </tr>\n",
       "  </tbody>\n",
       "</table>\n",
       "<p>14220 rows × 24 columns</p>\n",
       "</div>"
      ],
      "text/plain": [
       "       accountNumber customerId  creditLimit  availableMoney  \\\n",
       "262        984504651  984504651      50000.0        26799.51   \n",
       "263        984504651  984504651      50000.0        26680.99   \n",
       "264        984504651  984504651      50000.0        26562.47   \n",
       "280        984504651  984504651      50000.0        24342.83   \n",
       "281        984504651  984504651      50000.0        24316.12   \n",
       "...              ...        ...          ...             ...   \n",
       "785982     205026043  205026043       5000.0          843.53   \n",
       "785983     205026043  205026043       5000.0          451.59   \n",
       "785984     205026043  205026043       5000.0          433.52   \n",
       "786232     638498773  638498773      10000.0         3440.16   \n",
       "786233     638498773  638498773      10000.0         3049.18   \n",
       "\n",
       "       transactionDateTime  transactionAmount            merchantName  \\\n",
       "262    2016-03-12 06:34:13             118.52             AMC #706324   \n",
       "263    2016-03-12 06:34:29             118.52             AMC #706324   \n",
       "264    2016-03-12 06:36:41             118.52             AMC #706324   \n",
       "280    2016-03-18 13:56:20              26.71  Planet Fitness #692929   \n",
       "281    2016-03-18 13:57:04              26.71  Planet Fitness #692929   \n",
       "...                    ...                ...                     ...   \n",
       "785982 2016-06-07 22:27:35             391.94                    Uber   \n",
       "785983 2016-06-07 22:29:11             391.94                    Uber   \n",
       "785984 2016-06-07 22:30:57             391.94                    Uber   \n",
       "786232 2016-11-29 23:10:48             390.98    Krispy Kreme #653472   \n",
       "786233 2016-11-29 23:12:01             390.98    Krispy Kreme #653472   \n",
       "\n",
       "       acqCountry merchantCountryCode posEntryMode  ...  \\\n",
       "262            US                  US           02  ...   \n",
       "263            US                  US           02  ...   \n",
       "264            US                  US           02  ...   \n",
       "280            US                  US           02  ...   \n",
       "281            US                  US           02  ...   \n",
       "...           ...                 ...          ...  ...   \n",
       "785982         US                  US           09  ...   \n",
       "785983         US                  US           09  ...   \n",
       "785984         US                  US           09  ...   \n",
       "786232         US                  US           05  ...   \n",
       "786233         US                  US           05  ...   \n",
       "\n",
       "       dateOfLastAddressChange cardCVV enteredCVV cardLast4Digits  \\\n",
       "262                 2015-07-27     640        640            8332   \n",
       "263                 2015-07-27     640        640            8332   \n",
       "264                 2015-07-27     640        640            8332   \n",
       "280                 2015-07-27     640        640            8332   \n",
       "281                 2015-07-27     640        640            8332   \n",
       "...                        ...     ...        ...             ...   \n",
       "785982              2008-04-15     198        198            3931   \n",
       "785983              2008-04-15     198        198            3931   \n",
       "785984              2008-04-15     198        198            3931   \n",
       "786232              2014-11-17     175        175             321   \n",
       "786233              2014-11-17     175        175             321   \n",
       "\n",
       "       transactionType currentBalance cardPresent expirationDateKeyInMatch  \\\n",
       "262           PURCHASE       23200.49        True                    False   \n",
       "263           PURCHASE       23319.01        True                    False   \n",
       "264           PURCHASE       23437.53        True                    False   \n",
       "280           PURCHASE       25657.17        True                    False   \n",
       "281           PURCHASE       25683.88        True                    False   \n",
       "...                ...            ...         ...                      ...   \n",
       "785982        PURCHASE        4156.47       False                    False   \n",
       "785983        PURCHASE        4548.41       False                    False   \n",
       "785984        PURCHASE        4566.48       False                    False   \n",
       "786232        PURCHASE        6559.84        True                    False   \n",
       "786233        PURCHASE        6950.82        True                    False   \n",
       "\n",
       "       isFraud  transactionDate  \n",
       "262      False       2016-03-12  \n",
       "263      False       2016-03-12  \n",
       "264      False       2016-03-12  \n",
       "280      False       2016-03-18  \n",
       "281      False       2016-03-18  \n",
       "...        ...              ...  \n",
       "785982   False       2016-06-07  \n",
       "785983   False       2016-06-07  \n",
       "785984   False       2016-06-07  \n",
       "786232   False       2016-11-29  \n",
       "786233   False       2016-11-29  \n",
       "\n",
       "[14220 rows x 24 columns]"
      ]
     },
     "execution_count": 12,
     "metadata": {},
     "output_type": "execute_result"
    }
   ],
   "source": [
    "# add transactionDate column for grouping transactions\n",
    "df['transactionDate']=df['transactionDateTime'].dt.date\n",
    "# filter out all records that share traits of mul-transaction\n",
    "# Also filter out above records that are multi-transactions within same day\n",
    "df_group = df[df.groupby(['merchantName','transactionDate','transactionAmount','customerId','cardLast4Digits'])['transactionDateTime'].transform('count') > 1]\n",
    "df_group = df_group[(df_group['transactionType']!='REVERSAL')&(df_group['transactionType']!='ADDRESS_VERIFICATION')]\n",
    "df_group = df_group[df_group.groupby(['merchantName','transactionDate','transactionAmount','customerId','cardLast4Digits'])['transactionDateTime'].transform('count') > 1]\n",
    "df_group"
   ]
  },
  {
   "cell_type": "code",
   "execution_count": 242,
   "metadata": {},
   "outputs": [
    {
     "name": "stdout",
     "output_type": "stream",
     "text": [
      "Average number of transactions per each potential multi-transaction group:\n",
      "2.1004431314623337\n"
     ]
    }
   ],
   "source": [
    "# Check how many transactions per day in each potential multi-transaction group \n",
    "print('Average number of transactions per each potential multi-transaction group:')\n",
    "print(df_group.groupby(['merchantName','transactionDate','transactionAmount','customerId','cardLast4Digits'])\n",
    "      ['transactionDateTime'].count().mean())"
   ]
  },
  {
   "cell_type": "markdown",
   "metadata": {},
   "source": [
    "Since on average there are 2 transactions per day for each potential multi-transaction group, we calculate the average time period between the transactions per day per group:"
   ]
  },
  {
   "cell_type": "code",
   "execution_count": 250,
   "metadata": {},
   "outputs": [
    {
     "name": "stdout",
     "output_type": "stream",
     "text": [
      "Average timespan between multi transactions: 0 days 00:02:22.568178\n"
     ]
    }
   ],
   "source": [
    "timespan =df_group.groupby(['merchantName','transactionDate','transactionAmount','customerId','cardLast4Digits'])\n",
    "['transactionDateTime'].transform(lambda x: x.diff().mean())\n",
    "print('Average timespan between multi transactions:',timespan.mean())"
   ]
  },
  {
   "cell_type": "markdown",
   "metadata": {},
   "source": [
    "Since on average the timespan between multi-swipe transaction is around 2 minutes 22 seconds, we filter out all the records that are between timespan of 3 minutes by using the Grouper function to group transactions"
   ]
  },
  {
   "cell_type": "code",
   "execution_count": 13,
   "metadata": {},
   "outputs": [
    {
     "data": {
      "text/html": [
       "<div>\n",
       "<style scoped>\n",
       "    .dataframe tbody tr th:only-of-type {\n",
       "        vertical-align: middle;\n",
       "    }\n",
       "\n",
       "    .dataframe tbody tr th {\n",
       "        vertical-align: top;\n",
       "    }\n",
       "\n",
       "    .dataframe thead th {\n",
       "        text-align: right;\n",
       "    }\n",
       "</style>\n",
       "<table border=\"1\" class=\"dataframe\">\n",
       "  <thead>\n",
       "    <tr style=\"text-align: right;\">\n",
       "      <th></th>\n",
       "      <th>transactionDateTime</th>\n",
       "      <th>accountNumber</th>\n",
       "      <th>customerId</th>\n",
       "      <th>creditLimit</th>\n",
       "      <th>availableMoney</th>\n",
       "      <th>transactionAmount</th>\n",
       "      <th>merchantName</th>\n",
       "      <th>acqCountry</th>\n",
       "      <th>merchantCountryCode</th>\n",
       "      <th>posEntryMode</th>\n",
       "      <th>...</th>\n",
       "      <th>dateOfLastAddressChange</th>\n",
       "      <th>cardCVV</th>\n",
       "      <th>enteredCVV</th>\n",
       "      <th>cardLast4Digits</th>\n",
       "      <th>transactionType</th>\n",
       "      <th>currentBalance</th>\n",
       "      <th>cardPresent</th>\n",
       "      <th>expirationDateKeyInMatch</th>\n",
       "      <th>isFraud</th>\n",
       "      <th>transactionDate</th>\n",
       "    </tr>\n",
       "  </thead>\n",
       "  <tbody>\n",
       "    <tr>\n",
       "      <td>0</td>\n",
       "      <td>2016-03-12 06:34:13</td>\n",
       "      <td>984504651</td>\n",
       "      <td>984504651</td>\n",
       "      <td>50000.0</td>\n",
       "      <td>26799.51</td>\n",
       "      <td>118.52</td>\n",
       "      <td>AMC #706324</td>\n",
       "      <td>US</td>\n",
       "      <td>US</td>\n",
       "      <td>02</td>\n",
       "      <td>...</td>\n",
       "      <td>2015-07-27</td>\n",
       "      <td>640</td>\n",
       "      <td>640</td>\n",
       "      <td>8332</td>\n",
       "      <td>PURCHASE</td>\n",
       "      <td>23200.49</td>\n",
       "      <td>True</td>\n",
       "      <td>False</td>\n",
       "      <td>False</td>\n",
       "      <td>2016-03-12</td>\n",
       "    </tr>\n",
       "    <tr>\n",
       "      <td>1</td>\n",
       "      <td>2016-03-12 06:34:29</td>\n",
       "      <td>984504651</td>\n",
       "      <td>984504651</td>\n",
       "      <td>50000.0</td>\n",
       "      <td>26680.99</td>\n",
       "      <td>118.52</td>\n",
       "      <td>AMC #706324</td>\n",
       "      <td>US</td>\n",
       "      <td>US</td>\n",
       "      <td>02</td>\n",
       "      <td>...</td>\n",
       "      <td>2015-07-27</td>\n",
       "      <td>640</td>\n",
       "      <td>640</td>\n",
       "      <td>8332</td>\n",
       "      <td>PURCHASE</td>\n",
       "      <td>23319.01</td>\n",
       "      <td>True</td>\n",
       "      <td>False</td>\n",
       "      <td>False</td>\n",
       "      <td>2016-03-12</td>\n",
       "    </tr>\n",
       "    <tr>\n",
       "      <td>2</td>\n",
       "      <td>2016-05-07 07:30:02</td>\n",
       "      <td>984504651</td>\n",
       "      <td>984504651</td>\n",
       "      <td>50000.0</td>\n",
       "      <td>7326.14</td>\n",
       "      <td>23.82</td>\n",
       "      <td>Golds Gym #846582</td>\n",
       "      <td>US</td>\n",
       "      <td>US</td>\n",
       "      <td>09</td>\n",
       "      <td>...</td>\n",
       "      <td>2016-05-05</td>\n",
       "      <td>640</td>\n",
       "      <td>640</td>\n",
       "      <td>8332</td>\n",
       "      <td>PURCHASE</td>\n",
       "      <td>42673.86</td>\n",
       "      <td>True</td>\n",
       "      <td>False</td>\n",
       "      <td>False</td>\n",
       "      <td>2016-05-07</td>\n",
       "    </tr>\n",
       "    <tr>\n",
       "      <td>3</td>\n",
       "      <td>2016-05-07 07:32:54</td>\n",
       "      <td>984504651</td>\n",
       "      <td>984504651</td>\n",
       "      <td>50000.0</td>\n",
       "      <td>7302.32</td>\n",
       "      <td>23.82</td>\n",
       "      <td>Golds Gym #846582</td>\n",
       "      <td>US</td>\n",
       "      <td>US</td>\n",
       "      <td>09</td>\n",
       "      <td>...</td>\n",
       "      <td>2016-05-05</td>\n",
       "      <td>640</td>\n",
       "      <td>640</td>\n",
       "      <td>8332</td>\n",
       "      <td>PURCHASE</td>\n",
       "      <td>42697.68</td>\n",
       "      <td>True</td>\n",
       "      <td>False</td>\n",
       "      <td>False</td>\n",
       "      <td>2016-05-07</td>\n",
       "    </tr>\n",
       "    <tr>\n",
       "      <td>4</td>\n",
       "      <td>2016-06-04 12:13:12</td>\n",
       "      <td>984504651</td>\n",
       "      <td>984504651</td>\n",
       "      <td>50000.0</td>\n",
       "      <td>13324.81</td>\n",
       "      <td>270.10</td>\n",
       "      <td>EZ Putt Putt #40513</td>\n",
       "      <td>US</td>\n",
       "      <td>US</td>\n",
       "      <td>05</td>\n",
       "      <td>...</td>\n",
       "      <td>2016-05-05</td>\n",
       "      <td>640</td>\n",
       "      <td>640</td>\n",
       "      <td>8332</td>\n",
       "      <td>PURCHASE</td>\n",
       "      <td>36675.19</td>\n",
       "      <td>True</td>\n",
       "      <td>False</td>\n",
       "      <td>False</td>\n",
       "      <td>2016-06-04</td>\n",
       "    </tr>\n",
       "    <tr>\n",
       "      <td>...</td>\n",
       "      <td>...</td>\n",
       "      <td>...</td>\n",
       "      <td>...</td>\n",
       "      <td>...</td>\n",
       "      <td>...</td>\n",
       "      <td>...</td>\n",
       "      <td>...</td>\n",
       "      <td>...</td>\n",
       "      <td>...</td>\n",
       "      <td>...</td>\n",
       "      <td>...</td>\n",
       "      <td>...</td>\n",
       "      <td>...</td>\n",
       "      <td>...</td>\n",
       "      <td>...</td>\n",
       "      <td>...</td>\n",
       "      <td>...</td>\n",
       "      <td>...</td>\n",
       "      <td>...</td>\n",
       "      <td>...</td>\n",
       "      <td>...</td>\n",
       "    </tr>\n",
       "    <tr>\n",
       "      <td>7100</td>\n",
       "      <td>2016-08-23 18:05:10</td>\n",
       "      <td>841351704</td>\n",
       "      <td>841351704</td>\n",
       "      <td>50000.0</td>\n",
       "      <td>12188.19</td>\n",
       "      <td>392.35</td>\n",
       "      <td>San Francisco Post</td>\n",
       "      <td>US</td>\n",
       "      <td>US</td>\n",
       "      <td>02</td>\n",
       "      <td>...</td>\n",
       "      <td>2015-12-17</td>\n",
       "      <td>651</td>\n",
       "      <td>651</td>\n",
       "      <td>7831</td>\n",
       "      <td>PURCHASE</td>\n",
       "      <td>37811.81</td>\n",
       "      <td>False</td>\n",
       "      <td>False</td>\n",
       "      <td>True</td>\n",
       "      <td>2016-08-23</td>\n",
       "    </tr>\n",
       "    <tr>\n",
       "      <td>7101</td>\n",
       "      <td>2016-10-30 20:58:43</td>\n",
       "      <td>428856030</td>\n",
       "      <td>428856030</td>\n",
       "      <td>250.0</td>\n",
       "      <td>239.85</td>\n",
       "      <td>314.07</td>\n",
       "      <td>Rodeway Inn #438868</td>\n",
       "      <td>US</td>\n",
       "      <td>US</td>\n",
       "      <td>02</td>\n",
       "      <td>...</td>\n",
       "      <td>2009-08-17</td>\n",
       "      <td>990</td>\n",
       "      <td>990</td>\n",
       "      <td>7660</td>\n",
       "      <td>PURCHASE</td>\n",
       "      <td>10.15</td>\n",
       "      <td>True</td>\n",
       "      <td>False</td>\n",
       "      <td>False</td>\n",
       "      <td>2016-10-30</td>\n",
       "    </tr>\n",
       "    <tr>\n",
       "      <td>7102</td>\n",
       "      <td>2016-10-30 20:59:18</td>\n",
       "      <td>428856030</td>\n",
       "      <td>428856030</td>\n",
       "      <td>250.0</td>\n",
       "      <td>104.44</td>\n",
       "      <td>314.07</td>\n",
       "      <td>Rodeway Inn #438868</td>\n",
       "      <td>US</td>\n",
       "      <td>US</td>\n",
       "      <td>02</td>\n",
       "      <td>...</td>\n",
       "      <td>2009-08-17</td>\n",
       "      <td>990</td>\n",
       "      <td>990</td>\n",
       "      <td>7660</td>\n",
       "      <td>PURCHASE</td>\n",
       "      <td>145.56</td>\n",
       "      <td>True</td>\n",
       "      <td>False</td>\n",
       "      <td>False</td>\n",
       "      <td>2016-10-30</td>\n",
       "    </tr>\n",
       "    <tr>\n",
       "      <td>7103</td>\n",
       "      <td>2016-06-07 22:27:35</td>\n",
       "      <td>205026043</td>\n",
       "      <td>205026043</td>\n",
       "      <td>5000.0</td>\n",
       "      <td>843.53</td>\n",
       "      <td>391.94</td>\n",
       "      <td>Uber</td>\n",
       "      <td>US</td>\n",
       "      <td>US</td>\n",
       "      <td>09</td>\n",
       "      <td>...</td>\n",
       "      <td>2008-04-15</td>\n",
       "      <td>198</td>\n",
       "      <td>198</td>\n",
       "      <td>3931</td>\n",
       "      <td>PURCHASE</td>\n",
       "      <td>4156.47</td>\n",
       "      <td>False</td>\n",
       "      <td>False</td>\n",
       "      <td>False</td>\n",
       "      <td>2016-06-07</td>\n",
       "    </tr>\n",
       "    <tr>\n",
       "      <td>7104</td>\n",
       "      <td>2016-06-07 22:29:11</td>\n",
       "      <td>205026043</td>\n",
       "      <td>205026043</td>\n",
       "      <td>5000.0</td>\n",
       "      <td>451.59</td>\n",
       "      <td>391.94</td>\n",
       "      <td>Uber</td>\n",
       "      <td>US</td>\n",
       "      <td>US</td>\n",
       "      <td>09</td>\n",
       "      <td>...</td>\n",
       "      <td>2008-04-15</td>\n",
       "      <td>198</td>\n",
       "      <td>198</td>\n",
       "      <td>3931</td>\n",
       "      <td>PURCHASE</td>\n",
       "      <td>4548.41</td>\n",
       "      <td>False</td>\n",
       "      <td>False</td>\n",
       "      <td>False</td>\n",
       "      <td>2016-06-07</td>\n",
       "    </tr>\n",
       "  </tbody>\n",
       "</table>\n",
       "<p>7105 rows × 24 columns</p>\n",
       "</div>"
      ],
      "text/plain": [
       "     transactionDateTime accountNumber customerId  creditLimit  \\\n",
       "0    2016-03-12 06:34:13     984504651  984504651      50000.0   \n",
       "1    2016-03-12 06:34:29     984504651  984504651      50000.0   \n",
       "2    2016-05-07 07:30:02     984504651  984504651      50000.0   \n",
       "3    2016-05-07 07:32:54     984504651  984504651      50000.0   \n",
       "4    2016-06-04 12:13:12     984504651  984504651      50000.0   \n",
       "...                  ...           ...        ...          ...   \n",
       "7100 2016-08-23 18:05:10     841351704  841351704      50000.0   \n",
       "7101 2016-10-30 20:58:43     428856030  428856030        250.0   \n",
       "7102 2016-10-30 20:59:18     428856030  428856030        250.0   \n",
       "7103 2016-06-07 22:27:35     205026043  205026043       5000.0   \n",
       "7104 2016-06-07 22:29:11     205026043  205026043       5000.0   \n",
       "\n",
       "      availableMoney  transactionAmount         merchantName acqCountry  \\\n",
       "0           26799.51             118.52          AMC #706324         US   \n",
       "1           26680.99             118.52          AMC #706324         US   \n",
       "2            7326.14              23.82    Golds Gym #846582         US   \n",
       "3            7302.32              23.82    Golds Gym #846582         US   \n",
       "4           13324.81             270.10  EZ Putt Putt #40513         US   \n",
       "...              ...                ...                  ...        ...   \n",
       "7100        12188.19             392.35   San Francisco Post         US   \n",
       "7101          239.85             314.07  Rodeway Inn #438868         US   \n",
       "7102          104.44             314.07  Rodeway Inn #438868         US   \n",
       "7103          843.53             391.94                 Uber         US   \n",
       "7104          451.59             391.94                 Uber         US   \n",
       "\n",
       "     merchantCountryCode posEntryMode  ... dateOfLastAddressChange cardCVV  \\\n",
       "0                     US           02  ...              2015-07-27     640   \n",
       "1                     US           02  ...              2015-07-27     640   \n",
       "2                     US           09  ...              2016-05-05     640   \n",
       "3                     US           09  ...              2016-05-05     640   \n",
       "4                     US           05  ...              2016-05-05     640   \n",
       "...                  ...          ...  ...                     ...     ...   \n",
       "7100                  US           02  ...              2015-12-17     651   \n",
       "7101                  US           02  ...              2009-08-17     990   \n",
       "7102                  US           02  ...              2009-08-17     990   \n",
       "7103                  US           09  ...              2008-04-15     198   \n",
       "7104                  US           09  ...              2008-04-15     198   \n",
       "\n",
       "     enteredCVV cardLast4Digits transactionType currentBalance cardPresent  \\\n",
       "0           640            8332        PURCHASE       23200.49        True   \n",
       "1           640            8332        PURCHASE       23319.01        True   \n",
       "2           640            8332        PURCHASE       42673.86        True   \n",
       "3           640            8332        PURCHASE       42697.68        True   \n",
       "4           640            8332        PURCHASE       36675.19        True   \n",
       "...         ...             ...             ...            ...         ...   \n",
       "7100        651            7831        PURCHASE       37811.81       False   \n",
       "7101        990            7660        PURCHASE          10.15        True   \n",
       "7102        990            7660        PURCHASE         145.56        True   \n",
       "7103        198            3931        PURCHASE        4156.47       False   \n",
       "7104        198            3931        PURCHASE        4548.41       False   \n",
       "\n",
       "     expirationDateKeyInMatch isFraud  transactionDate  \n",
       "0                       False   False       2016-03-12  \n",
       "1                       False   False       2016-03-12  \n",
       "2                       False   False       2016-05-07  \n",
       "3                       False   False       2016-05-07  \n",
       "4                       False   False       2016-06-04  \n",
       "...                       ...     ...              ...  \n",
       "7100                    False    True       2016-08-23  \n",
       "7101                    False   False       2016-10-30  \n",
       "7102                    False   False       2016-10-30  \n",
       "7103                    False   False       2016-06-07  \n",
       "7104                    False   False       2016-06-07  \n",
       "\n",
       "[7105 rows x 24 columns]"
      ]
     },
     "execution_count": 13,
     "metadata": {},
     "output_type": "execute_result"
    }
   ],
   "source": [
    "df_multi = df_group.set_index('transactionDateTime')\n",
    "# use Grouper function to group within 3 minute transaction period\n",
    "df_multi =df_multi[df_multi.groupby(['merchantName','transactionAmount','customerId','cardLast4Digits',\n",
    "                                     pd.Grouper(freq='3Min')])['transactionAmount'].transform('count') > 1].reset_index()\n",
    "df_multi"
   ]
  },
  {
   "cell_type": "markdown",
   "metadata": {},
   "source": [
    "# What total number of transactions and total dollar amount do you estimate for the reversed transactions? "
   ]
  },
  {
   "cell_type": "code",
   "execution_count": 355,
   "metadata": {},
   "outputs": [
    {
     "name": "stdout",
     "output_type": "stream",
     "text": [
      "Total number of transactions is: 20303 . Total dollar amount is: $ 2821792.5\n"
     ]
    }
   ],
   "source": [
    "count = df_rev['transactionAmount'].count()\n",
    "total = df_rev['transactionAmount'].sum()\n",
    "print('Total number of transactions is:',count,'. Total dollar amount is: $',total)"
   ]
  },
  {
   "cell_type": "markdown",
   "metadata": {},
   "source": [
    "# For the multi-swipe transactions?"
   ]
  },
  {
   "cell_type": "code",
   "execution_count": null,
   "metadata": {},
   "outputs": [],
   "source": [
    "def report(df):\n",
    "    df=df[['transactionDateTime','merchantName','customerId','cardLast4Digits','transactionAmount']]\n",
    "    df = df.set_index('transactionDateTime')\n",
    "    df_sum= df.groupby([pd.Grouper(freq='3Min'),'transactionAmount','merchantName','customerId','cardLast4Digits'\n",
    "                                     ])['transactionAmount'].apply(lambda x: x.iloc[1:].sum()).reset_index(name='sum')\n",
    "    df_count= df.groupby([pd.Grouper(freq='3Min'),'transactionAmount','merchantName','customerId','cardLast4Digits'\n",
    "                                     ])['transactionAmount'].apply(lambda x: x.iloc[1:].count()).reset_index(name='count')\n",
    "    \n",
    "    print('Total number of transactions is:',df_count['count'].sum(),'. Total dollar amount is: $',df_sum['sum'].sum())"
   ]
  },
  {
   "cell_type": "code",
   "execution_count": 346,
   "metadata": {},
   "outputs": [
    {
     "name": "stdout",
     "output_type": "stream",
     "text": [
      "Total number of transactions is: 3601 . Total dollar amount is: $ 535516.25\n"
     ]
    }
   ],
   "source": [
    "report(df_multi)"
   ]
  },
  {
   "cell_type": "markdown",
   "metadata": {},
   "source": [
    "# Did you find anything interesting about either kind of transaction?"
   ]
  },
  {
   "cell_type": "markdown",
   "metadata": {},
   "source": [
    "Let's define a function to plot and check the mean of transaction amount per merchant category and per country."
   ]
  },
  {
   "cell_type": "code",
   "execution_count": 400,
   "metadata": {},
   "outputs": [],
   "source": [
    "def catplot(df,title):    \n",
    "    g = sns.catplot(x=\"merchantCategoryCode\", y=\"transactionAmount\",\n",
    "                    hue=\"isFraud\", col = 'merchantCountryCode', col_wrap = 3,sharex=False,\n",
    "                    data=df, kind=\"bar\")\n",
    "    g.set_xticklabels(rotation=25)\n",
    "    g.set_titles(row_template=\"{row_name}\")\n",
    "    g.fig.subplots_adjust(top=0.9)\n",
    "    g.fig.suptitle(title)\n",
    "    plt.show()"
   ]
  },
  {
   "cell_type": "code",
   "execution_count": 394,
   "metadata": {},
   "outputs": [
    {
     "data": {
      "image/png": "[encoded data removed]",
      "text/plain": [
       "<Figure size 1142.12x720 with 5 Axes>"
      ]
     },
     "metadata": {
      "needs_background": "light"
     },
     "output_type": "display_data"
    }
   ],
   "source": [
    "catplot(df_multi,'Multi-swipe transaction plot')"
   ]
  },
  {
   "cell_type": "markdown",
   "metadata": {},
   "source": [
    "For the multi-swipe transaction:\n",
    "- From above, we see that in US, in majority of the merchant categories, the average Fraud transaction amount is much higher than the non-fraud, especially in categories of 'rideshare', 'online-retail','airline','subscriptions' and 'food'\n",
    "- In US, the two cateogries of multi-swipe transactions do not contain fraud: 'health' and 'furniture'\n",
    "- Most fraud in multi-swipe transactions happen in US, for all other country types, fraud only exists in 'entertainment' category in Mexico."
   ]
  },
  {
   "cell_type": "code",
   "execution_count": 401,
   "metadata": {},
   "outputs": [
    {
     "data": {
      "image/png": "[encoded data removed]",
      "text/plain": [
       "<Figure size 1142.12x720 with 5 Axes>"
      ]
     },
     "metadata": {
      "needs_background": "light"
     },
     "output_type": "display_data"
    }
   ],
   "source": [
    "catplot(df_rev,'Reversal transaction plot')"
   ]
  },
  {
   "cell_type": "markdown",
   "metadata": {},
   "source": [
    "For the reversal transaction:\n",
    "- In US, most of categories of merchant's reversal transactions, the fraud transaction amount is much higher than non-fraud, except the category of 'personal_care'\n",
    "- The other countries that have fraud transactions in reversal transactions are Canada, and NA country code\n",
    "- In Canada, there are high fraud rate among all other reversal transactions in 'online-retail'"
   ]
  },
  {
   "cell_type": "markdown",
   "metadata": {},
   "source": [
    "# Question 4: Model"
   ]
  },
  {
   "cell_type": "code",
   "execution_count": 9,
   "metadata": {},
   "outputs": [
    {
     "data": {
      "text/html": [
       "<style type='text/css'>\n",
       ".datatable table.frame { margin-bottom: 0; }\n",
       ".datatable table.frame thead { border-bottom: none; }\n",
       ".datatable table.frame tr.coltypes td {  color: #FFFFFF;  line-height: 6px;  padding: 0 0.5em;}\n",
       ".datatable .bool    { background: #DDDD99; }\n",
       ".datatable .object  { background: #565656; }\n",
       ".datatable .int     { background: #5D9E5D; }\n",
       ".datatable .float   { background: #4040CC; }\n",
       ".datatable .str     { background: #CC4040; }\n",
       ".datatable .row_index {  background: var(--jp-border-color3);  border-right: 1px solid var(--jp-border-color0);  color: var(--jp-ui-font-color3);  font-size: 9px;}\n",
       ".datatable .frame tr.coltypes .row_index {  background: var(--jp-border-color0);}\n",
       ".datatable th:nth-child(2) { padding-left: 12px; }\n",
       ".datatable .hellipsis {  color: var(--jp-cell-editor-border-color);}\n",
       ".datatable .vellipsis {  background: var(--jp-layout-color0);  color: var(--jp-cell-editor-border-color);}\n",
       ".datatable .na {  color: var(--jp-cell-editor-border-color);  font-size: 80%;}\n",
       ".datatable .footer { font-size: 9px; }\n",
       ".datatable .frame_dimensions {  background: var(--jp-border-color3);  border-top: 1px solid var(--jp-border-color0);  color: var(--jp-ui-font-color3);  display: inline-block;  opacity: 0.6;  padding: 1px 10px 1px 5px;}\n",
       "</style>\n"
      ],
      "text/plain": [
       "<IPython.core.display.HTML object>"
      ]
     },
     "metadata": {},
     "output_type": "display_data"
    }
   ],
   "source": [
    "# import packages for preprocessing\n",
    "from sklearn.model_selection import train_test_split #Splitting data for model training\n",
    "from sklearn.preprocessing import StandardScaler, RobustScaler, LabelEncoder\n",
    "from sklearn.pipeline import make_pipeline, Pipeline\n",
    "from imblearn.pipeline import Pipeline\n",
    "from imblearn.under_sampling import RandomUnderSampler\n",
    "from imblearn.over_sampling import SMOTE\n",
    "from sklearn.model_selection import cross_val_score\n",
    "from sklearn.feature_selection import RFE\n",
    "from sklearn.model_selection import GridSearchCV\n",
    "from sklearn.model_selection import RandomizedSearchCV\n",
    "\n",
    "from sklearn.feature_selection import SelectKBest\n",
    "from sklearn.feature_selection import mutual_info_classif\n",
    "from sklearn.feature_selection import f_classif\n",
    "\n",
    "#Models\n",
    "import xgboost\n",
    "from sklearn.ensemble import RandomForestClassifier\n",
    "from sklearn.discriminant_analysis import LinearDiscriminantAnalysis\n",
    "from sklearn.discriminant_analysis import QuadraticDiscriminantAnalysis\n",
    "from sklearn.ensemble import BaggingClassifier\n",
    "from sklearn.svm import SVC\n",
    "from sklearn.linear_model import LogisticRegression\n",
    "from sklearn.metrics import accuracy_score\n",
    "from sklearn.naive_bayes import MultinomialNB,GaussianNB\n",
    "from sklearn.neighbors import KNeighborsClassifier\n",
    "from sklearn.tree import DecisionTreeClassifier\n",
    "from sklearn.model_selection import KFold\n",
    "\n",
    "#Model evaluation\n",
    "from sklearn import metrics\n",
    "from sklearn.preprocessing import label_binarize\n",
    "from sklearn.metrics import roc_auc_score, roc_curve\n",
    "from sklearn.multiclass import OneVsRestClassifier\n",
    "from itertools import cycle\n",
    "from sklearn.metrics import confusion_matrix\n"
   ]
  },
  {
   "cell_type": "markdown",
   "metadata": {},
   "source": [
    "Next, we will build a classification model to identify each transaction as fraud or non-fraud. The steps includes feature engineering, modeling, hyperparameter tuning and model evaluation."
   ]
  },
  {
   "cell_type": "code",
   "execution_count": 15,
   "metadata": {},
   "outputs": [
    {
     "data": {
      "text/plain": [
       "accountNumber                       object\n",
       "customerId                          object\n",
       "creditLimit                        float64\n",
       "availableMoney                     float64\n",
       "transactionDateTime         datetime64[ns]\n",
       "transactionAmount                  float64\n",
       "merchantName                        object\n",
       "acqCountry                          object\n",
       "merchantCountryCode                 object\n",
       "posEntryMode                        object\n",
       "posConditionCode                    object\n",
       "merchantCategoryCode                object\n",
       "currentExpDate              datetime64[ns]\n",
       "accountOpenDate             datetime64[ns]\n",
       "dateOfLastAddressChange     datetime64[ns]\n",
       "cardCVV                             object\n",
       "enteredCVV                          object\n",
       "cardLast4Digits                     object\n",
       "transactionType                     object\n",
       "currentBalance                     float64\n",
       "cardPresent                           bool\n",
       "expirationDateKeyInMatch              bool\n",
       "isFraud                               bool\n",
       "transactionDate                     object\n",
       "dtype: object"
      ]
     },
     "execution_count": 15,
     "metadata": {},
     "output_type": "execute_result"
    }
   ],
   "source": [
    "# check current df before modeling, and save as pickle file \n",
    "df.to_pickle('df_beforeModel.pkl')\n",
    "df.dtypes"
   ]
  },
  {
   "cell_type": "code",
   "execution_count": 16,
   "metadata": {},
   "outputs": [
    {
     "data": {
      "text/plain": [
       "(786363, 24)"
      ]
     },
     "execution_count": 16,
     "metadata": {},
     "output_type": "execute_result"
    }
   ],
   "source": [
    "df.shape"
   ]
  },
  {
   "cell_type": "code",
   "execution_count": 17,
   "metadata": {},
   "outputs": [
    {
     "data": {
      "text/plain": [
       "False    773946\n",
       "True      12417\n",
       "Name: isFraud, dtype: int64"
      ]
     },
     "execution_count": 17,
     "metadata": {},
     "output_type": "execute_result"
    }
   ],
   "source": [
    "df['isFraud'].value_counts()"
   ]
  },
  {
   "cell_type": "markdown",
   "metadata": {},
   "source": [
    "From above, we can see class imbalance for the classification target. The isFraud = True is only about 1.6% of the total. Will do imbalance data imputation when modeling."
   ]
  },
  {
   "cell_type": "markdown",
   "metadata": {},
   "source": [
    "## Feature Engineering"
   ]
  },
  {
   "cell_type": "code",
   "execution_count": 25,
   "metadata": {},
   "outputs": [],
   "source": [
    "df = pd.read_pickle('df_beforeModel.pkl')"
   ]
  },
  {
   "cell_type": "code",
   "execution_count": 18,
   "metadata": {},
   "outputs": [],
   "source": [
    "# add multi-swipe identifier column\n",
    "m = df.merge(df_multi,how='outer',indicator='multiSwipe')\n",
    "df['multiSwipe']= m['multiSwipe']=='both'"
   ]
  },
  {
   "cell_type": "code",
   "execution_count": 430,
   "metadata": {},
   "outputs": [
    {
     "data": {
      "text/plain": [
       "{dtype('float64'): Index(['creditLimit', 'availableMoney', 'transactionAmount', 'currentBalance'], dtype='object'),\n",
       " dtype('<M8[ns]'): Index(['transactionDateTime', 'currentExpDate', 'accountOpenDate',\n",
       "        'dateOfLastAddressChange'],\n",
       "       dtype='object'),\n",
       " dtype('bool'): Index(['cardPresent', 'expirationDateKeyInMatch', 'isFraud', 'multiSwipe'], dtype='object'),\n",
       " dtype('O'): Index(['accountNumber', 'customerId', 'merchantName', 'acqCountry',\n",
       "        'merchantCountryCode', 'posEntryMode', 'posConditionCode',\n",
       "        'merchantCategoryCode', 'cardCVV', 'enteredCVV', 'cardLast4Digits',\n",
       "        'transactionType', 'weekday', 'transactionDate'],\n",
       "       dtype='object')}"
      ]
     },
     "execution_count": 430,
     "metadata": {},
     "output_type": "execute_result"
    }
   ],
   "source": [
    "# check features by different dtypes\n",
    "feature_dic = df.columns.to_series().groupby(df.dtypes).groups\n",
    "feature_dic"
   ]
  },
  {
   "cell_type": "markdown",
   "metadata": {},
   "source": [
    "#### Feature engineer for dateTime variables:\n",
    "- ['transactionDateTime', 'currentExpDate', 'accountOpenDate','dateOfLastAddressChange']"
   ]
  },
  {
   "cell_type": "code",
   "execution_count": 19,
   "metadata": {},
   "outputs": [],
   "source": [
    "# Engineer for 'transactionDateTime'\n",
    "df['transactionMonth'] = df['transactionDateTime'].dt.month\n",
    "df['weekday']=df['transactionDateTime'].dt.weekday\n",
    "# calculate how many days till card expiration since transaction\n",
    "df['DaysTillExp'] = (df['currentExpDate']- df['transactionDateTime']).dt.days\n",
    "# calculate how any days account has opened\n",
    "df['accountOpenDays'] = (df['transactionDateTime']-df['accountOpenDate']).dt.days\n",
    "# calculate days between account open and expire\n",
    "df['accountAvailDays'] = (df['currentExpDate']-df['accountOpenDate']).dt.days\n",
    "# calculate days since address change till transaction happens\n",
    "df['LastAddressChangeDays'] = (df['transactionDateTime']-df['dateOfLastAddressChange']).dt.days\n",
    "# calculate days since account open till address change\n",
    "df['DaysTillAddressChange'] = (df['dateOfLastAddressChange']-df['accountOpenDate']).dt.days\n"
   ]
  },
  {
   "cell_type": "code",
   "execution_count": 20,
   "metadata": {},
   "outputs": [
    {
     "data": {
      "text/plain": [
       "(786363, 32)"
      ]
     },
     "execution_count": 20,
     "metadata": {},
     "output_type": "execute_result"
    }
   ],
   "source": [
    "df.shape"
   ]
  },
  {
   "cell_type": "code",
   "execution_count": 24,
   "metadata": {},
   "outputs": [
    {
     "name": "stdout",
     "output_type": "stream",
     "text": [
      "Train (629090, 23) (629090, 1)\n",
      "Test (157273, 23) (157273, 1)\n"
     ]
    }
   ],
   "source": [
    "# split into input (X) and output (y) variables\n",
    "# manually exclude some features for input\n",
    "X_features = list(set(df.columns) - \n",
    "                  set(['isFraud','accountNumber','customerId','acqCountry','cardCVV','enteredCVV',\n",
    "                       'cardLast4Digits','transactionDate','merchantName']))\n",
    "            # I excluded card related variables (e.g. cardCVV) since the fraud should not be affected by individual credit card numbers\n",
    "            # Same exclusion reason for customer variables\n",
    "            # excluded 'posEntryMode','posConditionCode' due to lack of info on the data\n",
    "            # excluded 'merchantName', since it is already categorized in 'merchantCategoryCode'\n",
    "            # 23 total features\n",
    "X = df[X_features]\n",
    "y = df[['isFraud']]\n",
    "# split into train and test sets\n",
    "X_train, X_test, y_train, y_test = train_test_split(X, y, test_size=0.2,stratify=y, random_state=50)\n",
    "# summarize\n",
    "print('Train', X_train.shape, y_train.shape)\n",
    "print('Test', X_test.shape, y_test.shape)"
   ]
  },
  {
   "cell_type": "code",
   "execution_count": 25,
   "metadata": {},
   "outputs": [
    {
     "data": {
      "text/plain": [
       "array(['02', '09', '05', '80', '90', 'NA'], dtype=object)"
      ]
     },
     "execution_count": 25,
     "metadata": {},
     "output_type": "execute_result"
    }
   ],
   "source": [
    "df['posEntryMode'].unique()"
   ]
  },
  {
   "cell_type": "markdown",
   "metadata": {},
   "source": [
    "#### Encoding for categorical variables:"
   ]
  },
  {
   "cell_type": "code",
   "execution_count": 27,
   "metadata": {},
   "outputs": [
    {
     "name": "stdout",
     "output_type": "stream",
     "text": [
      "['merchantCountryCode', 'merchantCategoryCode', 'posEntryMode', 'posConditionCode']\n",
      "(629090, 34) (157273, 34)\n",
      "(629090, 1) (157273, 1)\n"
     ]
    }
   ],
   "source": [
    "# Encoding categorical features and fit the encoding on the training dataset, then apply on train and test\n",
    "\n",
    "# ordinal encoding for features that can have orders, or binary features\n",
    "def label_enc(X_train, X_test,cols):\n",
    "    le = LabelEncoder()    \n",
    "    X_train_enc = X_train[cols].apply(lambda col: le.fit_transform(col))\n",
    "    X_test_enc = X_test[cols].apply(lambda col: le.fit_transform(col))\n",
    "    return X_train_enc, X_test_enc\n",
    "# dummy encoding for rest of categorical features \n",
    "def dummy_enc(X_train, X_test,cols):\n",
    "    #drops one column from the resulted dummy features to avoid multicollinearity.\n",
    "    X_train_enc = pd.get_dummies(X_train[cols], prefix_sep='_', drop_first=True) \n",
    "    X_test_enc = pd.get_dummies(X_test[cols], prefix_sep='_', drop_first=True) \n",
    "    return X_train_enc, X_test_enc\n",
    "\n",
    "label = ['cardPresent', 'expirationDateKeyInMatch', 'multiSwipe','transactionType']\n",
    "target = ['isFraud']\n",
    "dummy = ['merchantCountryCode','merchantCategoryCode','posEntryMode','posConditionCode']\n",
    "\n",
    "X_train_enc_label, X_test_enc_label = label_enc(X_train, X_test,label)\n",
    "X_train_enc_dummy, X_test_enc_dummy = dummy_enc(X_train, X_test,dummy)\n",
    "X_train_enc = pd.concat([X_train_enc_label,X_train_enc_dummy],axis= 1)\n",
    "X_test_enc = pd.concat([X_test_enc_label,X_test_enc_dummy],axis= 1)\n",
    "\n",
    "print(dummy)\n",
    "print(X_train_enc.shape, X_test_enc.shape)\n",
    "\n",
    "y_train_enc, y_test_enc = label_enc(y_train, y_test,target)\n",
    "print(y_train_enc.shape, y_test_enc.shape)\n"
   ]
  },
  {
   "cell_type": "code",
   "execution_count": 28,
   "metadata": {},
   "outputs": [
    {
     "name": "stdout",
     "output_type": "stream",
     "text": [
      "(786363, 34) (786363, 1)\n"
     ]
    }
   ],
   "source": [
    "y_full =  pd.concat([y_train_enc,y_test_enc])\n",
    "x_full = pd.concat([X_train_enc,X_test_enc])\n",
    "print(x_full.shape, y_full.shape)"
   ]
  },
  {
   "cell_type": "markdown",
   "metadata": {},
   "source": [
    "# feature selection"
   ]
  },
  {
   "cell_type": "markdown",
   "metadata": {},
   "source": [
    "Since encoding has increased our dimension, to reduce dimension for faster computation speed, we conduct feature selection"
   ]
  },
  {
   "cell_type": "code",
   "execution_count": null,
   "metadata": {},
   "outputs": [],
   "source": [
    "# feature selection with Mutual Information statistic for categorical features\n",
    "\n",
    "def select_features(X_train, y_train, X_test):\n",
    "    fs = SelectKBest(score_func=mutual_info_classif, k='all')\n",
    "    fs.fit(X_train, y_train)\n",
    "    X_train_fs = fs.transform(X_train)\n",
    "    X_test_fs = fs.transform(X_test)\n",
    "    return X_train_fs, X_test_fs, fs\n",
    "\n",
    "X_train_fs, X_test_fs, fs = select_features(X_train_enc, y_train_enc, X_test_enc)"
   ]
  },
  {
   "cell_type": "code",
   "execution_count": 515,
   "metadata": {},
   "outputs": [
    {
     "name": "stdout",
     "output_type": "stream",
     "text": [
      "Feature 0: 0.031955\n",
      "Feature 1: 0.000000\n",
      "Feature 2: 0.000027\n",
      "Feature 3: 0.020336\n",
      "Feature 4: 0.134381\n",
      "Feature 5: 0.000255\n",
      "Feature 6: 0.000000\n",
      "Feature 7: 0.001651\n",
      "Feature 8: 0.003103\n",
      "Feature 9: 0.001686\n",
      "Feature 10: 0.000254\n",
      "Feature 11: 0.000608\n",
      "Feature 12: 0.000000\n",
      "Feature 13: 0.000100\n",
      "Feature 14: 0.000202\n",
      "Feature 15: 0.000410\n",
      "Feature 16: 0.000626\n",
      "Feature 17: 0.001146\n",
      "Feature 18: 0.010757\n",
      "Feature 19: 0.000405\n",
      "Feature 20: 0.000166\n",
      "Feature 21: 0.000761\n",
      "Feature 22: 0.000187\n",
      "Feature 23: 0.000000\n",
      "Feature 24: 0.000013\n",
      "Feature 25: 0.000000\n",
      "Feature 26: 0.144199\n"
     ]
    }
   ],
   "source": [
    "# check feature scores\n",
    "for i in range(len(fs.scores_)):\n",
    "    print('Feature %d: %f' % (i, fs.scores_[i]))"
   ]
  },
  {
   "cell_type": "markdown",
   "metadata": {},
   "source": [
    "There are 5 features that have scores higher than 0.01, the higher the better, so we keep these 5 features as final lists of categorical features. We also include the merchant categories = 'health' and 'personal_care' based on the findings from Question 3. We found that transactions in thoese three category are normally not fraud compared to others where the fraud occurs more than normal."
   ]
  },
  {
   "cell_type": "code",
   "execution_count": 545,
   "metadata": {},
   "outputs": [
    {
     "name": "stdout",
     "output_type": "stream",
     "text": [
      "Feature 0: 0.031955\n",
      "Feature 3: 0.020336\n",
      "Feature 4: 0.134381\n",
      "Feature 18: 0.010757\n",
      "Feature 26: 0.144199\n"
     ]
    },
    {
     "data": {
      "text/plain": [
       "['cardPresent',\n",
       " 'weekday',\n",
       " 'transactionType',\n",
       " 'merchantCategoryCode_online_retail',\n",
       " 'merchantCountryCode_US']"
      ]
     },
     "execution_count": 545,
     "metadata": {},
     "output_type": "execute_result"
    }
   ],
   "source": [
    "l = []\n",
    "cat_features=[]\n",
    "for i in range(len(fs.scores_)):\n",
    "    if fs.scores_[i]> 0.01:        \n",
    "        print('Feature %d: %f' % (i, fs.scores_[i]))\n",
    "        l.append(i)\n",
    "for i in l:\n",
    "        cat_features.append(X_train_enc.columns[i])\n",
    "cat_features"
   ]
  },
  {
   "cell_type": "code",
   "execution_count": 46,
   "metadata": {},
   "outputs": [],
   "source": [
    "cat_features = cat_features + ['merchantCategoryCode_health','merchantCategoryCode_personal care']"
   ]
  },
  {
   "cell_type": "code",
   "execution_count": 113,
   "metadata": {},
   "outputs": [
    {
     "name": "stdout",
     "output_type": "stream",
     "text": [
      "(786363, 18) (786363, 1)\n"
     ]
    }
   ],
   "source": [
    "# finalize the input X and output y dataframe\n",
    "\n",
    "num_features = X.columns[(X.dtypes==float)|(X.dtypes==int)].tolist()\n",
    "X_cat = pd.concat([X_train_enc[cat_features],X_test_enc[cat_features]])\n",
    "X_model = pd.concat([X_cat,X[num_features]],axis=1) # input X (categorical and float)\n",
    "y_model = pd.concat([y_train_enc,y_test_enc]) # output y\n",
    "\n",
    "print(X_model.shape,y_model.shape)\n",
    "\n",
    "X_model.to_pickle('X_model.pkl')\n",
    "y_model.to_pickle('y_model.pkl')"
   ]
  },
  {
   "cell_type": "markdown",
   "metadata": {},
   "source": [
    "# Evaluate multiple baseline models using pipelines"
   ]
  },
  {
   "cell_type": "code",
   "execution_count": 41,
   "metadata": {},
   "outputs": [],
   "source": [
    "X_model=pd.read_pickle('X_model.pkl')\n",
    "y_model=pd.read_pickle('y_model.pkl')\n",
    "\n",
    "X_train, X_test, y_train, y_test = train_test_split(X_model, y_model, test_size=0.2,stratify=y_model)"
   ]
  },
  {
   "cell_type": "code",
   "execution_count": 5,
   "metadata": {},
   "outputs": [
    {
     "name": "stdout",
     "output_type": "stream",
     "text": [
      "['scaledLR']: 0.984209 (0.000284)\n",
      "['scaledLR', 'scaledMNB']: 0.984207 (0.000282)\n",
      "['scaledLR', 'scaledMNB', 'scaledKNN']: 0.984182 (0.000289)\n",
      "['scaledLR', 'scaledMNB', 'scaledKNN', 'scaledDT']: 0.967478 (0.000358)\n",
      "['scaledLR', 'scaledMNB', 'scaledKNN', 'scaledDT', 'scaledLDA']: 0.984209 (0.000284)\n"
     ]
    },
    {
     "data": {
      "image/png": "[encoded data removed]",
      "text/plain": [
       "<Figure size 432x288 with 1 Axes>"
      ]
     },
     "metadata": {
      "needs_background": "light"
     },
     "output_type": "display_data"
    }
   ],
   "source": [
    "pipelines = []\n",
    "pipelines.append(('scaledLR' , (Pipeline([('scaled' , StandardScaler()),('LR' ,LogisticRegression())]))))\n",
    "pipelines.append(('scaledMNB' , (Pipeline([('scaled' , StandardScaler()),('MNB' ,GaussianNB())]))))\n",
    "pipelines.append(('scaledKNN' , (Pipeline([('scaled' , StandardScaler()),('KNN' ,KNeighborsClassifier())]))))\n",
    "pipelines.append(('scaledDT' , (Pipeline([('scaled' , StandardScaler()),('DT' ,DecisionTreeClassifier())]))))\n",
    "pipelines.append(('scaledLDA' , (Pipeline([('scaled' , StandardScaler()),('LDA' ,LinearDiscriminantAnalysis())]))))\n",
    "\n",
    "\n",
    "model_name = []\n",
    "results = []\n",
    "for pipe ,model in pipelines:\n",
    "    kfold = KFold(n_splits=5, random_state=50)\n",
    "    crossv_results = cross_val_score(model , X_train ,y_train ,cv =kfold , scoring='accuracy') # accuracy scores\n",
    "    results.append(crossv_results)\n",
    "    model_name.append(pipe)\n",
    "    msg = \"%s: %f (%f)\" % (model_name, crossv_results.mean(), crossv_results.std())\n",
    "    print(msg)\n",
    "    \n",
    "# Compare different Algorithms\n",
    "fig = plt.figure()\n",
    "fig.suptitle('Algorithm Comparison')\n",
    "ax = fig.add_subplot(111)\n",
    "plt.boxplot(results)\n",
    "ax.set_xticklabels(model_name)\n",
    "plt.show()"
   ]
  },
  {
   "cell_type": "markdown",
   "metadata": {},
   "source": [
    "From above, we see very high accuracy score among all classifiers except Decision Tree. However, due to the extremely skewed data and imbalanced class problem, we will check ROC-AUC scores instead of accuracy score. \\\n",
    "Also added two ensemble algorithms, Random Forest and XGboost."
   ]
  },
  {
   "cell_type": "code",
   "execution_count": 42,
   "metadata": {},
   "outputs": [
    {
     "name": "stdout",
     "output_type": "stream",
     "text": [
      "['scaledLR']: 0.506589 (0.004080)\n",
      "['scaledLR', 'scaledMNB']: 0.505188 (0.005618)\n",
      "['scaledLR', 'scaledMNB', 'scaledKNN']: 0.496557 (0.001426)\n",
      "['scaledLR', 'scaledMNB', 'scaledKNN', 'scaledDT']: 0.499922 (0.002586)\n",
      "['scaledLR', 'scaledMNB', 'scaledKNN', 'scaledDT', 'scaledLDA']: 0.506523 (0.004053)\n",
      "['scaledLR', 'scaledMNB', 'scaledKNN', 'scaledDT', 'scaledLDA', 'scaledRF']: 0.497833 (0.003347)\n",
      "['scaledLR', 'scaledMNB', 'scaledKNN', 'scaledDT', 'scaledLDA', 'scaledRF', 'scaledXgb']: 0.502587 (0.003909)\n"
     ]
    },
    {
     "data": {
      "image/png": "[encoded data removed]",
      "text/plain": [
       "<Figure size 432x288 with 1 Axes>"
      ]
     },
     "metadata": {
      "needs_background": "light"
     },
     "output_type": "display_data"
    }
   ],
   "source": [
    "pipelines = []\n",
    "pipelines.append(('scaledLR' , (Pipeline([('scaled' , StandardScaler()),('LR' ,LogisticRegression())]))))\n",
    "pipelines.append(('scaledMNB' , (Pipeline([('scaled' , StandardScaler()),('MNB' ,GaussianNB())]))))\n",
    "pipelines.append(('scaledKNN' , (Pipeline([('scaled' , StandardScaler()),('KNN' ,KNeighborsClassifier())]))))\n",
    "pipelines.append(('scaledDT' , (Pipeline([('scaled' , StandardScaler()),('DT' ,DecisionTreeClassifier())]))))\n",
    "pipelines.append(('scaledLDA' , (Pipeline([('scaled' , StandardScaler()),('LDA' ,LinearDiscriminantAnalysis())]))))\n",
    "pipelines.append(('scaledRF' , (Pipeline([('scaled' , StandardScaler()),('RF' ,RandomForestClassifier())]))))\n",
    "pipelines.append(('scaledXgb' , (Pipeline([('scaled' , StandardScaler()),('Xgb' ,xgboost.XGBClassifier())]))))\n",
    "\n",
    "\n",
    "model_name = []\n",
    "results = []\n",
    "for pipe ,model in pipelines:\n",
    "    kfold = KFold(n_splits=5, random_state=50)\n",
    "    crossv_results = cross_val_score(model , X_train ,y_train ,cv =kfold , scoring='roc_auc') # roc_auc scores\n",
    "    results.append(crossv_results)\n",
    "    model_name.append(pipe)\n",
    "    msg = \"%s: %f (%f)\" % (model_name, crossv_results.mean(), crossv_results.std())\n",
    "    print(msg)\n",
    "    \n",
    "# Compare different Algorithms\n",
    "fig = plt.figure()\n",
    "fig.suptitle('Algorithm Comparison')\n",
    "ax = fig.add_subplot(111)\n",
    "plt.boxplot(results)\n",
    "ax.set_xticklabels(model_name)\n",
    "\n",
    "plt.show()"
   ]
  },
  {
   "cell_type": "markdown",
   "metadata": {},
   "source": [
    "From above, we see extremely low AUC scores around 0.5 for all classifiers. However, The decision threshold in binary classification is set to 0.5 by default. Since the threshold is the number we decide to label a variable as either 1 or 0, due to the imbalance property of classes, the threshold of 0.5 doesn't seem to be the best choice. -> Will adjust threshold when evaluating the model after fine tuning.\n",
    "- Default:\n",
    "    - Prediction < 0.5 = Class 0\n",
    "    - Prediction >= 0.5 = Class 1 \n",
    "\n",
    "Since Logistic Regression and LDA seem to be slightly out-performing. We will move on with Logistic Regression for now.\n",
    "    "
   ]
  },
  {
   "cell_type": "markdown",
   "metadata": {},
   "source": [
    "# Building Pipeline with GridSearch for tuning LR\n",
    "After picking out our best algorithm from baseline models, we set up a pipeline to automate steps for advanced model tuning.\n",
    "\n",
    "Use the pipeline module from sklearn to automate the following steps :\n",
    "- preprocessing with StandardScaler\n",
    "- modeling - We chose Logistic Regression for now\n",
    "- imbalance data imputation\n",
    "    - we first oversample the minority class with SMOTE to about a 1:10 ratio, then undersample the majority class to achieve about a 1:2 ratio.\n",
    "- hyperparameter tuning with GridSearch\n",
    "    - perform 5-fold cross validation, and pick best params for the model"
   ]
  },
  {
   "cell_type": "code",
   "execution_count": 48,
   "metadata": {},
   "outputs": [],
   "source": [
    "# adjust imbalance class by first oversample the minority class then undersample the majority class\n",
    "# the result after imputation will lead to two times of majority class than minority class\n",
    "over = SMOTE(sampling_strategy=0.1)\n",
    "under = RandomUnderSampler(sampling_strategy=0.5)\n",
    "# to perform data normalization\n",
    "scalers_to_test = [StandardScaler(), RobustScaler()]\n",
    "# set the tolerance to a large value to make the example faster\n",
    "logistic = LogisticRegression(max_iter=10000, tol=0.01)\n",
    "params = {'scaler':scalers_to_test,'logistic__C': np.logspace(-1, 4, 4),'logistic__penalty': ['l2','l1'],\n",
    "    'logistic__multi_class':['auto']}\n",
    "pipe = Pipeline([('o', over), ('u', under),\n",
    "                                 ('scaler', StandardScaler()),\n",
    "                                  ('logistic', logistic)\n",
    "                                 ])\n",
    "\n",
    "LR = GridSearchCV(pipe, params, cv=5, verbose=0,n_jobs=-1,refit=True) # Fit grid search"
   ]
  },
  {
   "cell_type": "markdown",
   "metadata": {},
   "source": [
    "# Model Evaluation + Visualization\n"
   ]
  },
  {
   "cell_type": "markdown",
   "metadata": {},
   "source": [
    "After building a pipeline for modeling, we do following to fit model and evaluate model with moving threshold:\n",
    "\n",
    "- Fit the model on training data\n",
    "- Predict probabilities on the test dataset.\n",
    "- Dinamically find the best threshold to balance True and False Positive rates.\n",
    "- Use adopted threshold when making class predictions on new data.\n",
    "- Evaluate by confusion matrix and precision-recall-F1 scores report\n",
    "\n",
    "The methodology of finding moving threshold for roc-auc score is leveraged from: https://machinelearningmastery.com/threshold-moving-for-imbalanced-classification/\n"
   ]
  },
  {
   "cell_type": "code",
   "execution_count": null,
   "metadata": {},
   "outputs": [],
   "source": [
    "# def eval function to evaluate model after model fitting\n",
    "def eval(model,X_test,y_test):\n",
    "    y_pred = model.predict_proba(X_test)[:, 1] #keep probabilities for the positive outcome only\n",
    "    Y_test=np.asarray(y_test).flatten()\n",
    "    # calculate roc curves\n",
    "    fpr, tpr, thresholds = roc_curve(Y_test, y_pred)\n",
    "    # find best threshold\n",
    "    # calculate the g-mean for each threshold\n",
    "    # Sensitivity = True Positive Rate\n",
    "    # Specificity = 1 – False Positive Rate\n",
    "    # G-Mean = sqrt(Sensitivity * Specificity)\n",
    "    gmeans = np.sqrt(tpr * (1-fpr))\n",
    "    # locate the index of the largest g-mean\n",
    "    ix = np.argmax(gmeans)\n",
    "    print('Best Threshold=%f, G-Mean=%.3f' % (thresholds[ix], gmeans[ix]))\n",
    "    # set threshold as Best Threshold\n",
    "    threshold = thresholds[ix]\n",
    "    y_pred_adjust = (y_pred >= threshold).astype(bool)\n",
    "    \n",
    "    print('------------Classification report----------------')\n",
    "    print(metrics.classification_report(Y_test, y_pred_adjust))\n",
    "    \n",
    "    print('------------Confusion matrix---------------------')\n",
    "    # confusion matrix\n",
    "    cnf_matrix = metrics.confusion_matrix(Y_test, y_pred_adjust)\n",
    "    # plot resulting confusion matrix figure\n",
    "    fig, ax = plt.subplots(figsize=(5,5))\n",
    "    heatmap=sns.heatmap(cnf_matrix, linewidths=1,annot=True, fmt='',cmap='Blues')\n",
    "    heatmap.yaxis.set_ticklabels(heatmap.yaxis.get_ticklabels(), rotation=45,  fontsize=12)\n",
    "    heatmap.xaxis.set_ticklabels(heatmap.xaxis.get_ticklabels(), rotation=0, fontsize=12)\n",
    "    plt.ylabel('True label')\n",
    "    plt.xlabel('Predicted label')\n",
    "    plt.title('Confusion Matrix - LR')\n",
    "    bottom, top = ax.get_ylim()\n",
    "    ax.set_ylim(bottom + 0.5, top - 0.5)\n",
    "    plt.show()"
   ]
  },
  {
   "cell_type": "markdown",
   "metadata": {},
   "source": [
    "## fit model on feature-reduced training data using model pipeline \n",
    "- This traning data is extracted after feature selection step\n",
    "- 18 features for input, and 1 output variable\n"
   ]
  },
  {
   "cell_type": "code",
   "execution_count": 52,
   "metadata": {},
   "outputs": [
    {
     "name": "stdout",
     "output_type": "stream",
     "text": [
      "Pipeline(memory=None,\n",
      "         steps=[('o',\n",
      "                 SMOTE(k_neighbors=5, kind='deprecated',\n",
      "                       m_neighbors='deprecated', n_jobs=1,\n",
      "                       out_step='deprecated', random_state=None, ratio=None,\n",
      "                       sampling_strategy=0.1, svm_estimator='deprecated')),\n",
      "                ('u',\n",
      "                 RandomUnderSampler(random_state=None, ratio=None,\n",
      "                                    replacement=False, return_indices=False,\n",
      "                                    sampling_strategy=0.5)),\n",
      "                ('scaler',\n",
      "                 StandardScaler(copy=True, with_mean=True, with_std=True)),\n",
      "                ('logistic',\n",
      "                 LogisticRegression(C=1.0, class_weight=None, dual=False,\n",
      "                                    fit_intercept=True, intercept_scaling=1,\n",
      "                                    l1_ratio=None, max_iter=10000,\n",
      "                                    multi_class='auto', n_jobs=None,\n",
      "                                    penalty='l2', random_state=None,\n",
      "                                    solver='warn', tol=0.1, verbose=0,\n",
      "                                    warm_start=False))],\n",
      "         verbose=False)\n",
      "{'logistic__C': 1.0, 'logistic__multi_class': 'auto', 'logistic__penalty': 'l2'}\n"
     ]
    }
   ],
   "source": [
    "best_model = LR.fit(X_train,y_train)\n",
    "print(best_model.best_estimator_)\n",
    "print(best_model.best_params_)"
   ]
  },
  {
   "cell_type": "code",
   "execution_count": 158,
   "metadata": {},
   "outputs": [
    {
     "name": "stdout",
     "output_type": "stream",
     "text": [
      "classification score for training data:  0.984208936815997\n",
      "classification score for test data:  0.9842121669416516\n"
     ]
    }
   ],
   "source": [
    "print('classification score for training data: ',np.mean(cross_val_score(best_model, X_train, y_train, cv=10)))\n",
    "print('classification score for test data: ',np.mean(cross_val_score(best_model, X_test, y_test, cv=10)))\n"
   ]
  },
  {
   "cell_type": "markdown",
   "metadata": {},
   "source": [
    "The mean accuracy scores for both training and test data are very similar and extremely high, which means not overfitting. But as already discussed above, due to class imbalance, we shouldn't rely on only accuracy scores.\\\n",
    "Next, we check other metices defined in the 'eval' function."
   ]
  },
  {
   "cell_type": "code",
   "execution_count": 53,
   "metadata": {},
   "outputs": [
    {
     "name": "stdout",
     "output_type": "stream",
     "text": [
      "Best Threshold=0.336450, G-Mean=0.501\n",
      "------------Classification report----------------\n",
      "              precision    recall  f1-score   support\n",
      "\n",
      "           0       0.98      0.53      0.69    154790\n",
      "           1       0.02      0.47      0.03      2483\n",
      "\n",
      "    accuracy                           0.53    157273\n",
      "   macro avg       0.50      0.50      0.36    157273\n",
      "weighted avg       0.97      0.53      0.68    157273\n",
      "\n",
      "------------Confusion matrix---------------------\n"
     ]
    },
    {
     "data": {
      "image/png": "[encoded data removed]",
      "text/plain": [
       "<Figure size 360x360 with 2 Axes>"
      ]
     },
     "metadata": {
      "needs_background": "light"
     },
     "output_type": "display_data"
    }
   ],
   "source": [
    "eval(best_model,X_test,y_test)"
   ]
  },
  {
   "cell_type": "code",
   "execution_count": 43,
   "metadata": {},
   "outputs": [
    {
     "data": {
      "image/png": "[encoded data removed]",
      "text/plain": [
       "<Figure size 432x288 with 1 Axes>"
      ]
     },
     "metadata": {
      "needs_background": "light"
     },
     "output_type": "display_data"
    }
   ],
   "source": [
    "# feature importance\n",
    "coefs = np.abs(best_model.best_estimator_.named_steps['logistic'].coef_[0])\n",
    "indices = np.argsort(coefs)[::-1]\n",
    "plt.figure()\n",
    "plt.title(\"Feature importances (Logistic Regression)\")\n",
    "plt.bar(range(10), coefs[indices[:10]],\n",
    "    align=\"center\")\n",
    "plt.xticks(range(10), X_train.columns[indices[:10]], rotation=25, ha='right')\n",
    "plt.subplots_adjust(bottom=0.3)"
   ]
  },
  {
   "cell_type": "markdown",
   "metadata": {},
   "source": [
    "#### Summary\n",
    "- From the classification report, we see that the f1-score, which is the harmonious balanced mean measure of precision and recall, for class 0 is 0.69 - much higher than class 1 (0.03). It means the model did much better job predicting non-fraud compared to predicting fraud. Due to the class imbalance - fraud is only 1.6% of total records, the weighted average f1 score which considers the imabalance situation for two classes is okay - 0.68. \n",
    "- From the confusion matrix, the numbers on diagonals are the observations correctly predicted, which are what we want to be the highest number. However, in this case, not only the True Negatives are high, but also False Positives are extremely high, which is bad.\n",
    "- Since the goal is to identify fraud, and most of the records are not fraud, it is better to identify less fraud than identifying all as fraud. In other words, type I errors we have here are very dangerous -  the high number of false positives are very bad sign.\n",
    "- I think the problem might be I have excessively reduced the features, and led to the model learning from biased data. After feature selection step, I extracted the most significant encoded categorical features, those ones can share common trait of having higher fraud records which made the model learn in a biased way.  \n",
    "- Next, I will fit model on training data w/o reducing features from feature selection step."
   ]
  },
  {
   "cell_type": "markdown",
   "metadata": {},
   "source": [
    "## fit model on training data w/o feature-reduction \n",
    "- This traning data is without feature selection. It includes all encoded features and engineered numerical features.\n",
    "- 34 features for input, and 1 output variable\n"
   ]
  },
  {
   "cell_type": "code",
   "execution_count": 33,
   "metadata": {},
   "outputs": [
    {
     "name": "stdout",
     "output_type": "stream",
     "text": [
      "Pipeline(memory=None,\n",
      "         steps=[('o',\n",
      "                 SMOTE(k_neighbors=5, kind='deprecated',\n",
      "                       m_neighbors='deprecated', n_jobs=1,\n",
      "                       out_step='deprecated', random_state=None, ratio=None,\n",
      "                       sampling_strategy=0.1, svm_estimator='deprecated')),\n",
      "                ('u',\n",
      "                 RandomUnderSampler(random_state=None, ratio=None,\n",
      "                                    replacement=False, return_indices=False,\n",
      "                                    sampling_strategy=0.5)),\n",
      "                ('scaler',\n",
      "                 StandardScaler(copy=True, with_mean=True, with_std=True)),\n",
      "                ('logistic',\n",
      "                 LogisticRegression(C=1.0, class_weight=None, dual=False,\n",
      "                                    fit_intercept=True, intercept_scaling=1,\n",
      "                                    l1_ratio=None, max_iter=10000,\n",
      "                                    multi_class='auto', n_jobs=None,\n",
      "                                    penalty='l1', random_state=None,\n",
      "                                    solver='warn', tol=0.1, verbose=0,\n",
      "                                    warm_start=False))],\n",
      "         verbose=False)\n",
      "{'logistic__C': 1.0, 'logistic__multi_class': 'auto', 'logistic__penalty': 'l1', 'scaler': StandardScaler(copy=True, with_mean=True, with_std=True)}\n"
     ]
    }
   ],
   "source": [
    "# fit model with training data for the full dataset\n",
    "\n",
    "X_train2, X_test2, y_train2, y_test2 = train_test_split(x_full, y_full, test_size=0.2,stratify=y_full)\n",
    "\n",
    "model_all_features = LR.fit(X_train2,y_train2)\n",
    "print(model_all_features.best_estimator_)\n",
    "print(model_all_features.best_params_)"
   ]
  },
  {
   "cell_type": "code",
   "execution_count": 38,
   "metadata": {},
   "outputs": [
    {
     "name": "stdout",
     "output_type": "stream",
     "text": [
      "Best Threshold=0.387767, G-Mean=0.666\n",
      "------------Classification report----------------\n",
      "              precision    recall  f1-score   support\n",
      "\n",
      "           0       0.99      0.71      0.83    154790\n",
      "           1       0.03      0.62      0.06      2483\n",
      "\n",
      "    accuracy                           0.71    157273\n",
      "   macro avg       0.51      0.67      0.45    157273\n",
      "weighted avg       0.98      0.71      0.82    157273\n",
      "\n",
      "------------Confusion matrix---------------------\n"
     ]
    },
    {
     "data": {
      "image/png": "[encoded data removed]",
      "text/plain": [
       "<Figure size 360x360 with 2 Axes>"
      ]
     },
     "metadata": {
      "needs_background": "light"
     },
     "output_type": "display_data"
    }
   ],
   "source": [
    "eval(model_all_features,X_test2,y_test2)"
   ]
  },
  {
   "cell_type": "code",
   "execution_count": 24,
   "metadata": {},
   "outputs": [
    {
     "data": {
      "image/png": "[encoded data removed]",
      "text/plain": [
       "<Figure size 432x288 with 1 Axes>"
      ]
     },
     "metadata": {
      "needs_background": "light"
     },
     "output_type": "display_data"
    }
   ],
   "source": [
    "coefs2 = np.abs(model_all_features.best_estimator_.named_steps['logistic'].coef_[0])\n",
    "indices = np.argsort(coefs2)[::-1]\n",
    "\n",
    "plt.figure()\n",
    "plt.title(\"Feature importances (Logistic Regression)\")\n",
    "plt.bar(range(10), coefs2[indices[:10]],\n",
    "    align=\"center\")\n",
    "plt.xticks(range(10),k, rotation=25, ha='right')\n",
    "plt.subplots_adjust(bottom=0.3)"
   ]
  },
  {
   "cell_type": "markdown",
   "metadata": {},
   "source": [
    "#### Summary\n",
    "- From above, we confirm that the type I error (False Positives) dramatically reduced, and we see slight increase in True Positives, which is also a positive outcome. The weighted f1 score has increased from 0.68 to 0.82, which is also good.\n",
    "- The weighted precision score is 0.98, much higher than recal 0.71, which is very ideal in this use case. Precision is a better measurement here because it returns the True Positives among all that identified as TP (fraud), which we need high accuracy, because we don't want to over-identify fraud records. Meanwhile, recall returns how many fraud records are correctly predicted, which we'd rather lose some accuracy on.\n",
    "- The remaining biggest problem is still the extremely low precial score for class 1, which means the model can't predict the fraud records very correctly. Other than the work written below, the situation can also be improved by understanding the data better with the help of domain expertise. \n"
   ]
  },
  {
   "cell_type": "markdown",
   "metadata": {},
   "source": [
    "#### Future Improvments\n",
    "- If I have more time and computation CPU power, I'd love to try penalized-SVM to balance the class weigts. \n",
    "- Also, I'd like to improve on the feature engineering part.  I'd like to try creating an embedding layer with a simple feedforward neural network to deal with categorical feature encoding problem. \n",
    "- There are also more hyperparameter tuning that can be done, for example, for the logistic regression ,I can try doing the bayesian optimization to improve the model performance."
   ]
  },
  {
   "cell_type": "code",
   "execution_count": null,
   "metadata": {},
   "outputs": [],
   "source": []
  },
  {
   "cell_type": "code",
   "execution_count": null,
   "metadata": {},
   "outputs": [],
   "source": []
  },
  {
   "cell_type": "code",
   "execution_count": null,
   "metadata": {},
   "outputs": [],
   "source": []
  }
 ],
 "metadata": {
  "kernelspec": {
   "display_name": "Python 3",
   "language": "python",
   "name": "python3"
  },
  "language_info": {
   "codemirror_mode": {
    "name": "ipython",
    "version": 3
   },
   "file_extension": ".py",
   "mimetype": "text/x-python",
   "name": "python",
   "nbconvert_exporter": "python",
   "pygments_lexer": "ipython3",
   "version": "3.7.4"
  }
 },
 "nbformat": 4,
 "nbformat_minor": 2
}
